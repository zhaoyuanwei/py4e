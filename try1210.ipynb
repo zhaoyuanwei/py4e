{
  "nbformat": 4,
  "nbformat_minor": 0,
  "metadata": {
    "colab": {
      "provenance": [],
      "toc_visible": true,
      "authorship_tag": "ABX9TyPHkk6Dj0ON7P2VJ8Ako8zL",
      "include_colab_link": true
    },
    "kernelspec": {
      "name": "python3",
      "display_name": "Python 3"
    },
    "language_info": {
      "name": "python"
    }
  },
  "cells": [
    {
      "cell_type": "markdown",
      "metadata": {
        "id": "view-in-github",
        "colab_type": "text"
      },
      "source": [
        "<a href=\"https://colab.research.google.com/github/zhaoyuanwei/py4e/blob/master/try1210.ipynb\" target=\"_parent\"><img src=\"https://colab.research.google.com/assets/colab-badge.svg\" alt=\"Open In Colab\"/></a>"
      ]
    },
    {
      "cell_type": "code",
      "execution_count": null,
      "metadata": {
        "colab": {
          "base_uri": "https://localhost:8080/"
        },
        "id": "GwwBv2xeELxA",
        "outputId": "7b9b4a77-6662-4a0b-8b19-15f88bd726f6"
      },
      "outputs": [
        {
          "output_type": "stream",
          "name": "stdout",
          "text": [
            "\tI'm tabbled in\n",
            "I'm split\n",
            "on a line.\n",
            "I'm\\ a \\ cat\n",
            "\n",
            "I'll do a list:\n",
            "\t*cat food\n",
            "\t*Fishes\n",
            "\t*catnip\n",
            "\t*Grass\n",
            "\n"
          ]
        }
      ],
      "source": [
        "tabby_cat=\"\\tI'm tabbled in\"\n",
        "persian_cat=\"I'm split\\non a line.\"\n",
        "backslash_cat=\"I'm\\\\ a \\\\ cat\"\n",
        "fat_cat=\"\"\"\n",
        "I'll do a list:\n",
        "\\t*cat food\n",
        "\\t*Fishes\n",
        "\\t*catnip\\n\\t*Grass\n",
        "\"\"\"\n",
        "print(tabby_cat)\n",
        "print(persian_cat)\n",
        "print(backslash_cat)\n",
        "print(fat_cat)"
      ]
    },
    {
      "cell_type": "code",
      "source": [],
      "metadata": {
        "id": "p5-jf6mVIveY"
      },
      "execution_count": null,
      "outputs": []
    },
    {
      "cell_type": "code",
      "source": [
        "print(\"how old are you\",end='')\n",
        "age=input()\n",
        "print(\"how tall are you\",end='')\n",
        "height=input()\n",
        "print(\"how much do you weigh?\",end='')\n",
        "weigh=input()\n",
        "print(f\"so,you're{age}old,{height}tall and{weigh}heavy\")"
      ],
      "metadata": {
        "colab": {
          "base_uri": "https://localhost:8080/"
        },
        "id": "PuGB_dqQHRMe",
        "outputId": "fb69d57e-4bc7-497f-9382-1cb55cc66801"
      },
      "execution_count": null,
      "outputs": [
        {
          "output_type": "stream",
          "name": "stdout",
          "text": [
            "how old are you111\n",
            "how tall are you195\n",
            "how much do you weigh?122\n",
            "so,you're111old,195tall and122heavy\n"
          ]
        }
      ]
    },
    {
      "cell_type": "code",
      "source": [
        "age=input(\"how old are you?\")\n",
        "height=input(\"how tall you are?\")\n",
        "weight=input(\"how much do you weigh?\")\n",
        "print(f\"so,you are{age}old,{height}tall and {weight}heavy\")"
      ],
      "metadata": {
        "colab": {
          "base_uri": "https://localhost:8080/"
        },
        "id": "Bj5_aZHpKARx",
        "outputId": "70c082d5-86ec-4a96-c405-58e764185795"
      },
      "execution_count": null,
      "outputs": [
        {
          "output_type": "stream",
          "name": "stdout",
          "text": [
            "how old are you?54\n",
            "how tall you are?199\n",
            "how much do you weigh?100\n",
            "so,you are54old,199tall and 100heavy\n"
          ]
        }
      ]
    },
    {
      "cell_type": "markdown",
      "source": [],
      "metadata": {
        "id": "OltAqD3oLgVg"
      }
    },
    {
      "cell_type": "code",
      "source": [
        "\n",
        "from sys import argv\n",
        "#read the WYSS section for how to run this\n",
        "script,first,second,third=argv\n",
        "\n",
        "print(\"the script is called:\",script)\n",
        "print(\"your first variable is:\",first)\n",
        "print(\"your second variable is:\",second)\n",
        "print(\"your third variable is:\",third)"
      ],
      "metadata": {
        "colab": {
          "base_uri": "https://localhost:8080/",
          "height": 247
        },
        "id": "Dxx1awIMLsIt",
        "outputId": "8e9d82ab-57a6-4205-c1f8-00bb542468bb"
      },
      "execution_count": null,
      "outputs": [
        {
          "output_type": "error",
          "ename": "ValueError",
          "evalue": "ignored",
          "traceback": [
            "\u001b[0;31m---------------------------------------------------------------------------\u001b[0m",
            "\u001b[0;31mValueError\u001b[0m                                Traceback (most recent call last)",
            "\u001b[0;32m<ipython-input-3-fc2cd601d6be>\u001b[0m in \u001b[0;36m<cell line: 3>\u001b[0;34m()\u001b[0m\n\u001b[1;32m      1\u001b[0m \u001b[0;32mfrom\u001b[0m \u001b[0msys\u001b[0m \u001b[0;32mimport\u001b[0m \u001b[0margv\u001b[0m\u001b[0;34m\u001b[0m\u001b[0;34m\u001b[0m\u001b[0m\n\u001b[1;32m      2\u001b[0m \u001b[0;31m#read the WYSS section for how to run this\u001b[0m\u001b[0;34m\u001b[0m\u001b[0;34m\u001b[0m\u001b[0m\n\u001b[0;32m----> 3\u001b[0;31m \u001b[0mscript\u001b[0m\u001b[0;34m,\u001b[0m\u001b[0mfirst\u001b[0m\u001b[0;34m,\u001b[0m\u001b[0msecond\u001b[0m\u001b[0;34m,\u001b[0m\u001b[0mthird\u001b[0m\u001b[0;34m=\u001b[0m\u001b[0margv\u001b[0m\u001b[0;34m\u001b[0m\u001b[0;34m\u001b[0m\u001b[0m\n\u001b[0m\u001b[1;32m      4\u001b[0m \u001b[0;34m\u001b[0m\u001b[0m\n\u001b[1;32m      5\u001b[0m \u001b[0mprint\u001b[0m\u001b[0;34m(\u001b[0m\u001b[0;34m\"the script is called:\"\u001b[0m\u001b[0;34m,\u001b[0m\u001b[0mscript\u001b[0m\u001b[0;34m)\u001b[0m\u001b[0;34m\u001b[0m\u001b[0;34m\u001b[0m\u001b[0m\n",
            "\u001b[0;31mValueError\u001b[0m: not enough values to unpack (expected 4, got 3)"
          ]
        }
      ]
    },
    {
      "cell_type": "code",
      "source": [
        "from sys import argv\n",
        "\n",
        "# Check if the correct number of command-line arguments is provided\n",
        "if len(argv) != 4:\n",
        "    print(\"Usage: python script_name.py <first_variable> <second_variable> <third_variable>\")\n",
        "    exit(1)\n",
        "\n",
        "# Assign command-line arguments to variables\n",
        "script, first, second, third = argv\n",
        "\n",
        "# Print the values\n",
        "print(\"The script is called:\", script)\n",
        "print(\"Your first variable is:\", first)\n",
        "print(\"Your second variable is:\", second)\n",
        "print(\"Your third variable is:\", third)"
      ],
      "metadata": {
        "colab": {
          "base_uri": "https://localhost:8080/",
          "height": 264
        },
        "id": "R7rF4u2BsqMZ",
        "outputId": "f53fe029-95dd-4734-8450-ade224484a4a"
      },
      "execution_count": null,
      "outputs": [
        {
          "output_type": "stream",
          "name": "stdout",
          "text": [
            "Usage: python script_name.py <first_variable> <second_variable> <third_variable>\n"
          ]
        },
        {
          "output_type": "error",
          "ename": "ValueError",
          "evalue": "ignored",
          "traceback": [
            "\u001b[0;31m---------------------------------------------------------------------------\u001b[0m",
            "\u001b[0;31mValueError\u001b[0m                                Traceback (most recent call last)",
            "\u001b[0;32m<ipython-input-13-850bf5393a8d>\u001b[0m in \u001b[0;36m<cell line: 9>\u001b[0;34m()\u001b[0m\n\u001b[1;32m      7\u001b[0m \u001b[0;34m\u001b[0m\u001b[0m\n\u001b[1;32m      8\u001b[0m \u001b[0;31m# Assign command-line arguments to variables\u001b[0m\u001b[0;34m\u001b[0m\u001b[0;34m\u001b[0m\u001b[0m\n\u001b[0;32m----> 9\u001b[0;31m \u001b[0mscript\u001b[0m\u001b[0;34m,\u001b[0m \u001b[0mfirst\u001b[0m\u001b[0;34m,\u001b[0m \u001b[0msecond\u001b[0m\u001b[0;34m,\u001b[0m \u001b[0mthird\u001b[0m \u001b[0;34m=\u001b[0m \u001b[0margv\u001b[0m\u001b[0;34m\u001b[0m\u001b[0;34m\u001b[0m\u001b[0m\n\u001b[0m\u001b[1;32m     10\u001b[0m \u001b[0;34m\u001b[0m\u001b[0m\n\u001b[1;32m     11\u001b[0m \u001b[0;31m# Print the values\u001b[0m\u001b[0;34m\u001b[0m\u001b[0;34m\u001b[0m\u001b[0m\n",
            "\u001b[0;31mValueError\u001b[0m: not enough values to unpack (expected 4, got 3)"
          ]
        }
      ]
    },
    {
      "cell_type": "code",
      "source": [
        "python your_script.py fg1 2 3\n"
      ],
      "metadata": {
        "colab": {
          "base_uri": "https://localhost:8080/",
          "height": 143
        },
        "id": "nIi-1Za8w97L",
        "outputId": "11859fff-1f13-474b-bd4f-ec1c59d46eb6"
      },
      "execution_count": null,
      "outputs": [
        {
          "output_type": "error",
          "ename": "SyntaxError",
          "evalue": "ignored",
          "traceback": [
            "\u001b[0;36m  File \u001b[0;32m\"<ipython-input-12-15860547e298>\"\u001b[0;36m, line \u001b[0;32m1\u001b[0m\n\u001b[0;31m    python your_script.py fg1 2 3\u001b[0m\n\u001b[0m           ^\u001b[0m\n\u001b[0;31mSyntaxError\u001b[0m\u001b[0;31m:\u001b[0m invalid syntax\n"
          ]
        }
      ]
    },
    {
      "cell_type": "code",
      "source": [
        "from sys import argv\n",
        "\n",
        "script,user_name=argv\n",
        "promt='>'\n",
        "\n",
        "print(f\"hi{user_name},I'm the {script}script.\")\n",
        "print(\"I'd ask you a few questions.\")\n",
        "print(f\"do you like me{user_name}\")\n",
        "like=input(prompt)\n",
        "\n",
        "print(f\"where do you live{user_name}?\")\n",
        "lives=input(prompt)\n",
        "\n",
        "print(\"what kind of computerdo you have\")\n",
        "computer=input(prompt)\n",
        "\n",
        "print(f\"\"\"\n",
        "Alright,so you said {likes}about liking me .\n",
        "you live in {lives},not sure where that is\n",
        "and you have a {conputer}computer.Nice\n",
        "\"\"\")"
      ],
      "metadata": {
        "colab": {
          "base_uri": "https://localhost:8080/",
          "height": 258
        },
        "id": "AQ-0H6kkRzg3",
        "outputId": "282e298a-1e01-4c77-c34d-8d561fd2f9a9"
      },
      "execution_count": null,
      "outputs": [
        {
          "output_type": "error",
          "ename": "ValueError",
          "evalue": "ignored",
          "traceback": [
            "\u001b[0;31m---------------------------------------------------------------------------\u001b[0m",
            "\u001b[0;31mValueError\u001b[0m                                Traceback (most recent call last)",
            "\u001b[0;32m<ipython-input-24-2ce6578c1d17>\u001b[0m in \u001b[0;36m<cell line: 3>\u001b[0;34m()\u001b[0m\n\u001b[1;32m      1\u001b[0m \u001b[0;32mfrom\u001b[0m \u001b[0msys\u001b[0m \u001b[0;32mimport\u001b[0m \u001b[0margv\u001b[0m\u001b[0;34m\u001b[0m\u001b[0;34m\u001b[0m\u001b[0m\n\u001b[1;32m      2\u001b[0m \u001b[0;34m\u001b[0m\u001b[0m\n\u001b[0;32m----> 3\u001b[0;31m \u001b[0mscript\u001b[0m\u001b[0;34m,\u001b[0m\u001b[0muser_name\u001b[0m\u001b[0;34m=\u001b[0m\u001b[0margv\u001b[0m\u001b[0;34m\u001b[0m\u001b[0;34m\u001b[0m\u001b[0m\n\u001b[0m\u001b[1;32m      4\u001b[0m \u001b[0mpromt\u001b[0m\u001b[0;34m=\u001b[0m\u001b[0;34m'>'\u001b[0m\u001b[0;34m\u001b[0m\u001b[0;34m\u001b[0m\u001b[0m\n\u001b[1;32m      5\u001b[0m \u001b[0;34m\u001b[0m\u001b[0m\n",
            "\u001b[0;31mValueError\u001b[0m: too many values to unpack (expected 2)"
          ]
        }
      ]
    },
    {
      "cell_type": "code",
      "source": [
        "from sys import argv\n",
        "script,filename=argv\n",
        "txt=open(filename)\n",
        "print(f\"here's your file{filename}\")\n",
        "print(txt.read())\n",
        "print(\"type the filename again:\")\n",
        "file_again=input(\">\")\n",
        "txt_again=open(file_again)\n",
        "print(txt_again.read())"
      ],
      "metadata": {
        "colab": {
          "base_uri": "https://localhost:8080/",
          "height": 258
        },
        "id": "AO04mUETXP5N",
        "outputId": "920638dc-f00e-4f5f-8c91-2aad2a382a53"
      },
      "execution_count": null,
      "outputs": [
        {
          "output_type": "error",
          "ename": "ValueError",
          "evalue": "ignored",
          "traceback": [
            "\u001b[0;31m---------------------------------------------------------------------------\u001b[0m",
            "\u001b[0;31mValueError\u001b[0m                                Traceback (most recent call last)",
            "\u001b[0;32m<ipython-input-29-e48947fa5f12>\u001b[0m in \u001b[0;36m<cell line: 2>\u001b[0;34m()\u001b[0m\n\u001b[1;32m      1\u001b[0m \u001b[0;32mfrom\u001b[0m \u001b[0msys\u001b[0m \u001b[0;32mimport\u001b[0m \u001b[0margv\u001b[0m\u001b[0;34m\u001b[0m\u001b[0;34m\u001b[0m\u001b[0m\n\u001b[0;32m----> 2\u001b[0;31m \u001b[0mscript\u001b[0m\u001b[0;34m,\u001b[0m\u001b[0mfilename\u001b[0m\u001b[0;34m=\u001b[0m\u001b[0margv\u001b[0m\u001b[0;34m\u001b[0m\u001b[0;34m\u001b[0m\u001b[0m\n\u001b[0m\u001b[1;32m      3\u001b[0m \u001b[0mtxt\u001b[0m\u001b[0;34m=\u001b[0m\u001b[0mopen\u001b[0m\u001b[0;34m(\u001b[0m\u001b[0mfilename\u001b[0m\u001b[0;34m)\u001b[0m\u001b[0;34m\u001b[0m\u001b[0;34m\u001b[0m\u001b[0m\n\u001b[1;32m      4\u001b[0m \u001b[0mprint\u001b[0m\u001b[0;34m(\u001b[0m\u001b[0;34mf\"here's your file{filename}\"\u001b[0m\u001b[0;34m)\u001b[0m\u001b[0;34m\u001b[0m\u001b[0;34m\u001b[0m\u001b[0m\n\u001b[1;32m      5\u001b[0m \u001b[0mprint\u001b[0m\u001b[0;34m(\u001b[0m\u001b[0mtxt\u001b[0m\u001b[0;34m.\u001b[0m\u001b[0mread\u001b[0m\u001b[0;34m(\u001b[0m\u001b[0;34m)\u001b[0m\u001b[0;34m)\u001b[0m\u001b[0;34m\u001b[0m\u001b[0;34m\u001b[0m\u001b[0m\n",
            "\u001b[0;31mValueError\u001b[0m: too many values to unpack (expected 2)"
          ]
        }
      ]
    },
    {
      "cell_type": "code",
      "source": [
        "#this one is like your scripts with argv\n",
        "def print_two(*args):\n",
        "  arg1,arg2=args\n",
        "  print(f\"arg1:{arg1},arg2;{arg2}\")\n",
        "\n",
        "#ok,that *args is actually pointless,we can do this\n",
        "def print_two_again(arg1,arg2):\n",
        "  print(f\"arg1:{arg1},arg2:{arg2}\")\n",
        "\n",
        "#this just take one argument\n",
        "def print_one(arg1):\n",
        "  print(f\"arg1:{arg1}\")\n",
        "\n",
        "#this one takes no arguments\n",
        "def print_none():\n",
        "  print(\"I got nothin'.\")\n",
        "\n",
        "print_two(\"Zed\",\"shaw\")\n",
        "print_two_again(\"zed\",\"shaw\")\n",
        "print_one(\"First!\")\n",
        "print_none()\n"
      ],
      "metadata": {
        "colab": {
          "base_uri": "https://localhost:8080/"
        },
        "id": "tqDXO9CYIw_d",
        "outputId": "360e115c-bc95-4245-cfdf-fd9c0719fffa"
      },
      "execution_count": null,
      "outputs": [
        {
          "output_type": "stream",
          "name": "stdout",
          "text": [
            "arg1:Zed,arg2;shaw\n",
            "arg1:zed,arg2:shaw\n",
            "arg1:First!\n",
            "I got nothin'.\n"
          ]
        }
      ]
    },
    {
      "cell_type": "code",
      "source": [
        "def cheese_and_crackers(cheese_count,boxes_of_crackers):\n",
        "  print(f\"you have{cheese_count}cheeses!\")\n",
        "  print(f\"if you have{boxes_of_crackers}boxes of cracker!\")\n",
        "  print(\"Man that's enough for a party\")\n",
        "  print(\"Get a blanker.\\n\")\n",
        "\n",
        "print(\"we can just give the function numbers directly:\")\n",
        "cheese_and_crackers(20,30)\n",
        "\n",
        "print(\"or,we can use variables from our script:\")\n",
        "amount_of_cheese=10\n",
        "amount_of_crackers=50\n",
        "\n",
        "cheese_and_crackers (amount_of_cheese,amount_of_crackers)\n",
        "\n",
        "print(\"we can even do math inside too\")\n",
        "cheese_and_crackers(10+20,5+6)\n",
        "\n",
        "print(\"and wu can combine the two,variables and math\")\n",
        "cheese_and_crackers(amount_of_cheese+100,amount_of_crackers+1000)"
      ],
      "metadata": {
        "colab": {
          "base_uri": "https://localhost:8080/"
        },
        "id": "34RVfg6EQdL2",
        "outputId": "b0036b52-452c-40c9-c523-d262f6c04119"
      },
      "execution_count": null,
      "outputs": [
        {
          "output_type": "stream",
          "name": "stdout",
          "text": [
            "we can just give the function numbers directly:\n",
            "you have20cheeses!\n",
            "if you have30boxes of cracker!\n",
            "Man that's enough for a party\n",
            "Get a blanker.\n",
            "\n",
            "or,we can use variables from our script:\n",
            "you have10cheeses!\n",
            "if you have50boxes of cracker!\n",
            "Man that's enough for a party\n",
            "Get a blanker.\n",
            "\n",
            "we can even do math inside too\n",
            "you have30cheeses!\n",
            "if you have11boxes of cracker!\n",
            "Man that's enough for a party\n",
            "Get a blanker.\n",
            "\n",
            "and wu can combine the two,variables and math\n",
            "you have110cheeses!\n",
            "if you have1050boxes of cracker!\n",
            "Man that's enough for a party\n",
            "Get a blanker.\n",
            "\n"
          ]
        }
      ]
    },
    {
      "cell_type": "code",
      "source": [
        "from sys import argv\n",
        "\n",
        "script,input_file=argv\n",
        "\n",
        "def print_all(f):\n",
        "  print(f.read())\n",
        "\n",
        "def rewind(f):\n",
        "  f.seek(0)\n",
        "\n",
        "def print_a_line(line_count,f):\n",
        "  print(line_count,f.readline())\n",
        "\n",
        "current_file=open(input_file)\n",
        "\n",
        "print(\"first lets print the whole file:\\n\")\n",
        "print_all(current_file)\n",
        "\n",
        "print(\"Now lets rewind ,kind of like a tape\")\n",
        "rewind(current_file)\n",
        "\n",
        "print(\"lets print three lines:\")\n",
        "\n",
        "current_line=1\n",
        "print_a_line(current_line,current_file)\n",
        "\n",
        "current_line=current_line+1\n",
        "print_a_line(current_line,current_file)\n",
        "\n",
        "current_line=current_line+1"
      ],
      "metadata": {
        "colab": {
          "base_uri": "https://localhost:8080/",
          "height": 247
        },
        "id": "Lbbf2ECDUVaU",
        "outputId": "dd67daf2-85c7-4211-cbfb-e7b940faa085"
      },
      "execution_count": null,
      "outputs": [
        {
          "output_type": "error",
          "ename": "ValueError",
          "evalue": "ignored",
          "traceback": [
            "\u001b[0;31m---------------------------------------------------------------------------\u001b[0m",
            "\u001b[0;31mValueError\u001b[0m                                Traceback (most recent call last)",
            "\u001b[0;32m<ipython-input-12-9be316ad4fd7>\u001b[0m in \u001b[0;36m<cell line: 3>\u001b[0;34m()\u001b[0m\n\u001b[1;32m      1\u001b[0m \u001b[0;32mfrom\u001b[0m \u001b[0msys\u001b[0m \u001b[0;32mimport\u001b[0m \u001b[0margv\u001b[0m\u001b[0;34m\u001b[0m\u001b[0;34m\u001b[0m\u001b[0m\n\u001b[1;32m      2\u001b[0m \u001b[0;34m\u001b[0m\u001b[0m\n\u001b[0;32m----> 3\u001b[0;31m \u001b[0mscript\u001b[0m\u001b[0;34m,\u001b[0m\u001b[0minput_file\u001b[0m\u001b[0;34m=\u001b[0m\u001b[0margv\u001b[0m\u001b[0;34m\u001b[0m\u001b[0;34m\u001b[0m\u001b[0m\n\u001b[0m\u001b[1;32m      4\u001b[0m \u001b[0;34m\u001b[0m\u001b[0m\n\u001b[1;32m      5\u001b[0m \u001b[0;32mdef\u001b[0m \u001b[0mprint_all\u001b[0m\u001b[0;34m(\u001b[0m\u001b[0mf\u001b[0m\u001b[0;34m)\u001b[0m\u001b[0;34m:\u001b[0m\u001b[0;34m\u001b[0m\u001b[0;34m\u001b[0m\u001b[0m\n",
            "\u001b[0;31mValueError\u001b[0m: too many values to unpack (expected 2)"
          ]
        }
      ]
    },
    {
      "cell_type": "markdown",
      "source": [
        "def add(a,b):\n",
        "  print(f\"adding{a}+{b}\")\n",
        "  return a+b\n",
        "\n",
        "def subtract(a,b):\n",
        "  print(f\"subtracting{a}-{b}\")\n",
        "  return a-b\n",
        "\n",
        "def multiply(a,b):\n",
        "  print(f\"multiplying{a}-{b}\")\n",
        "  return a*b\n",
        "\n",
        "def divide(a,b):\n",
        "  print(f\"dividing{a}/{b}\")\n",
        "  return a/b\n",
        "\n",
        "print(\"lets do some math with just functions!\")\n",
        "\n",
        "age=add(30,5)\n",
        "height=subtract(78,4)\n",
        "weight=multiply(90,2)\n",
        "iq=divide(100,2)\n",
        "\n",
        "print(f\"Age:{age},height:{height},weight:{weight},IQ:{iq}\")\n",
        "\n",
        "#a puzzle for the extra credit,type it in anyway.\n",
        "print(\"here is a puzzle\")\n",
        "what=add(age,subtract(height,multiply(weight,divide(iq,2))))\n",
        "\n",
        "print(\"that becomes:\",what,\"can you do it by hand\")"
      ],
      "metadata": {
        "id": "eFEEU9albBFf"
      }
    },
    {
      "cell_type": "code",
      "source": [
        "def add(a,b):\n",
        "  print(f\"adding{a}+{b}\")\n",
        "  return a+b\n",
        "\n",
        "def subtract(a,b):\n",
        "  print(f\"subtracting{a}-{b}\")\n",
        "  return a-b\n",
        "\n",
        "def multiply(a,b):\n",
        "  print(f\"multiplying{a}-{b}\")\n",
        "  return a*b\n",
        "\n",
        "def divide(a,b):\n",
        "  print(f\"dividing{a}/{b}\")\n",
        "  return a/b\n",
        "\n",
        "print(\"lets do some math with just functions!\")\n",
        "\n",
        "age=add(30,5)\n",
        "height=subtract(78,4)\n",
        "weight=multiply(90,2)\n",
        "iq=divide(100,2)\n",
        "\n",
        "print(f\"Age:{age},height:{height},weight:{weight},IQ:{iq}\")\n",
        "\n",
        "#a puzzle for the extra credit,type it in anyway.\n",
        "print(\"here is a puzzle\")\n",
        "what=add(age,subtract(height,multiply(weight,divide(iq,2))))\n",
        "\n",
        "print(\"that becomes:\",what,\"can you do it by hand\")"
      ],
      "metadata": {
        "colab": {
          "base_uri": "https://localhost:8080/"
        },
        "id": "HbV3jS9ogC-r",
        "outputId": "f20df9ba-5098-40f6-9d2c-35594f98f2fb"
      },
      "execution_count": null,
      "outputs": [
        {
          "output_type": "stream",
          "name": "stdout",
          "text": [
            "lets do some math with just functions!\n",
            "adding30+5\n",
            "subtracting78-4\n",
            "multiplying90-2\n",
            "dividing100/2\n",
            "Age:35,height:74,weight:180,IQ:50.0\n",
            "here is a puzzle\n",
            "dividing50.0/2\n",
            "multiplying180-25.0\n",
            "subtracting74-4500.0\n",
            "adding35+-4426.0\n",
            "that becomes: -4391.0 can you do it by hand\n"
          ]
        }
      ]
    },
    {
      "cell_type": "markdown",
      "source": [
        "import sys\n",
        "script,input_encoding.error=sys.argv\n",
        "\n"
      ],
      "metadata": {
        "id": "CEEsh65SgFy4"
      }
    },
    {
      "cell_type": "code",
      "source": [
        "print(\"let's practice everything\")\n",
        "print('you\\'d need to know\\'bout escapes with \\\\that do:')\n",
        "print('\\n newlines and \\t tabs.')\n",
        "poem=\"\"\"\n",
        "\\t the lovely world\n",
        "with logic so firmly planted\n",
        "cannot discern \\n the needs of love\n",
        "nor compprehend passion from intuition\n",
        "and requires an explanation\n",
        "\\n\\t\\t where there is none\n",
        "\"\"\"\n",
        "\n",
        "print(\"----------\")\n",
        "print(poem)\n",
        "print(\"----------\")\n",
        "\n",
        "five=10-2+3-6\n",
        "print(f\"this should be fice:{five}\")\n",
        "\n",
        "def secret_formula(started):\n",
        "  jelly_beans=started*500\n",
        "  jars=jelly_beans/1000\n",
        "  crates=jars/100\n",
        "  return jelly_beans,jars,crates\n",
        "\n",
        "start_point=10000\n",
        "beans,jars,crates=secret_formula(start_point)\n",
        "\n",
        "#remember that this is another way to format a string\n",
        "print (\"with a starting point of:{}\".format(start_point))\n",
        "\n",
        "#it's just like with an f\"\" string\n",
        "print(f\"we'd have {beans}beans,{jars}jars，and{crates}crates\")\n",
        "\n",
        "start_point=start_point/10\n",
        "\n",
        "print(\"we can also do that this way\")\n",
        "formula=secret_formula(start_point)\n",
        "#this is an easy way to apply a list format string\n",
        "print(\"we'd hace{}beans ,{}jars,and{}crates.\".format(*formula))"
      ],
      "metadata": {
        "colab": {
          "base_uri": "https://localhost:8080/"
        },
        "id": "fTeFdQqwHSGC",
        "outputId": "3117eea4-d550-4c42-8a7a-1e8f81e59c38"
      },
      "execution_count": null,
      "outputs": [
        {
          "output_type": "stream",
          "name": "stdout",
          "text": [
            "let's practice everything\n",
            "you'd need to know'bout escapes with \\that do:\n",
            "\n",
            " newlines and \t tabs.\n",
            "----------\n",
            "\n",
            "\t the lovely world \n",
            "with logic so firmly planted\n",
            "cannot discern \n",
            " the needs of love\n",
            "nor compprehend passion from intuition\n",
            "and requires an explanation\n",
            "\n",
            "\t\t where there is none \n",
            "\n",
            "----------\n",
            "this should be fice:5\n",
            "with a starting point of:10000\n",
            "we'd have 5000000beans,5000.0jars，and50.0crates\n",
            "we can also do that this way\n",
            "we'd hace500000.0beans ,500.0jars,and5.0crates.\n"
          ]
        }
      ]
    },
    {
      "cell_type": "code",
      "source": [],
      "metadata": {
        "id": "rClMMgDHHVEe"
      },
      "execution_count": null,
      "outputs": []
    },
    {
      "cell_type": "markdown",
      "source": [
        "ord(\"Z\")\n",
        "chr(90)\n",
        "[90,101,100,32,65,46,32,83,104,97,119]"
      ],
      "metadata": {
        "id": "Gb-jaAr39f4T"
      }
    },
    {
      "cell_type": "code",
      "source": [
        "import ex25\n"
      ],
      "metadata": {
        "colab": {
          "base_uri": "https://localhost:8080/",
          "height": 316
        },
        "id": "xC52Z_GHHZZC",
        "outputId": "4ec72ca7-f886-4e7e-f431-3784b6efa43d"
      },
      "execution_count": null,
      "outputs": [
        {
          "output_type": "error",
          "ename": "ModuleNotFoundError",
          "evalue": "ignored",
          "traceback": [
            "\u001b[0;31m---------------------------------------------------------------------------\u001b[0m",
            "\u001b[0;31mModuleNotFoundError\u001b[0m                       Traceback (most recent call last)",
            "\u001b[0;32m<ipython-input-30-f141b0100379>\u001b[0m in \u001b[0;36m<cell line: 1>\u001b[0;34m()\u001b[0m\n\u001b[0;32m----> 1\u001b[0;31m \u001b[0;32mimport\u001b[0m \u001b[0mex25\u001b[0m\u001b[0;34m\u001b[0m\u001b[0;34m\u001b[0m\u001b[0m\n\u001b[0m",
            "\u001b[0;31mModuleNotFoundError\u001b[0m: No module named 'ex25'",
            "",
            "\u001b[0;31m---------------------------------------------------------------------------\u001b[0;32m\nNOTE: If your import is failing due to a missing package, you can\nmanually install dependencies using either !pip or !apt.\n\nTo view examples of installing some common dependencies, click the\n\"Open Examples\" button below.\n\u001b[0;31m---------------------------------------------------------------------------\u001b[0m\n"
          ],
          "errorDetails": {
            "actions": [
              {
                "action": "open_url",
                "actionText": "Open Examples",
                "url": "/notebooks/snippets/importing_libraries.ipynb"
              }
            ]
          }
        }
      ]
    },
    {
      "cell_type": "code",
      "source": [
        "hairs=['brown','blond','red']\n",
        "eyes=['brown','blue','green']\n",
        "weights=[1,2,3,4]\n",
        "\n",
        "print(hairs)"
      ],
      "metadata": {
        "colab": {
          "base_uri": "https://localhost:8080/"
        },
        "id": "fNevifOFIpeH",
        "outputId": "751e6a32-29ef-4ca9-c92d-4656fc27fbfe"
      },
      "execution_count": null,
      "outputs": [
        {
          "output_type": "stream",
          "name": "stdout",
          "text": [
            "['brown', 'blond', 'red']\n"
          ]
        }
      ]
    },
    {
      "cell_type": "code",
      "source": [
        "the_count=[1,2,3,4,5]\n",
        "fruits=['apples','oranges','pears','apricots']\n",
        "change=[1,'pennies',2,'dimes',3,'quarters']\n",
        "\n",
        "\n",
        "#this first kind of for_loop goes through a list\n",
        "for number in the_count:\n",
        "  print(f\"this is count{number}\")\n",
        "\n",
        "#same as above\n",
        "for fruit in fruits:\n",
        "  print(f\"a fruit of type;{fruit}\")\n",
        "\n",
        "#also can we go through mixes lists too\n",
        "for i in change:\n",
        "  print(f\"i got{i}\")\n",
        "\n",
        "#we can also buid lists,first start with an empty one\n",
        "elements=[]\n",
        "\n",
        "#then use the range function to do 0 to 5 couts\n",
        "for i in range(0,6):\n",
        "  print(f\"adding{i}to the list\")\n",
        "  #appendend is a function that lists understand\n",
        "  elements.append(i)\n",
        "\n",
        "#now we can print them out too\n",
        "for i in elements:\n",
        "  print(f\"elements was:{i}\")\n",
        "\n"
      ],
      "metadata": {
        "colab": {
          "base_uri": "https://localhost:8080/"
        },
        "id": "jKkdiI8IKJ8V",
        "outputId": "b83d6b75-374f-4ab9-d09e-156ae80ff846"
      },
      "execution_count": null,
      "outputs": [
        {
          "output_type": "stream",
          "name": "stdout",
          "text": [
            "this is count1\n",
            "this is count2\n",
            "this is count3\n",
            "this is count4\n",
            "this is count5\n",
            "a fruit of type;apples\n",
            "a fruit of type;oranges\n",
            "a fruit of type;pears\n",
            "a fruit of type;apricots\n",
            "i got1\n",
            "i gotpennies\n",
            "i got2\n",
            "i gotdimes\n",
            "i got3\n",
            "i gotquarters\n",
            "adding0to the list\n",
            "adding1to the list\n",
            "adding2to the list\n",
            "adding3to the list\n",
            "adding4to the list\n",
            "adding5to the list\n",
            "elements was:0\n",
            "elements was:1\n",
            "elements was:2\n",
            "elements was:3\n",
            "elements was:4\n",
            "elements was:5\n"
          ]
        }
      ]
    },
    {
      "cell_type": "code",
      "source": [
        "i=0\n",
        "numbers=[]\n",
        "\n",
        "while i<6:\n",
        "  print(f\"at the top i is{i}\")\n",
        "  numbers.append(i)\n",
        "\n",
        "  i=i+1\n",
        "  print(\"numbers now:\",numbers)\n",
        "  print(f\"at the bottem i is {i}\")\n",
        "print(\"the numbers:\")\n",
        "\n",
        "for num in numbers:\n",
        "  print(num)"
      ],
      "metadata": {
        "colab": {
          "base_uri": "https://localhost:8080/"
        },
        "id": "I-aV1kdGOVT7",
        "outputId": "f11ca5b8-5c10-4371-d8d2-d757064c9409"
      },
      "execution_count": null,
      "outputs": [
        {
          "output_type": "stream",
          "name": "stdout",
          "text": [
            "at the top i is0\n",
            "numbers now: [0]\n",
            "at the bottem i is 1\n",
            "at the top i is1\n",
            "numbers now: [0, 1]\n",
            "at the bottem i is 2\n",
            "at the top i is2\n",
            "numbers now: [0, 1, 2]\n",
            "at the bottem i is 3\n",
            "at the top i is3\n",
            "numbers now: [0, 1, 2, 3]\n",
            "at the bottem i is 4\n",
            "at the top i is4\n",
            "numbers now: [0, 1, 2, 3, 4]\n",
            "at the bottem i is 5\n",
            "at the top i is5\n",
            "numbers now: [0, 1, 2, 3, 4, 5]\n",
            "at the bottem i is 6\n",
            "the numbers:\n",
            "0\n",
            "1\n",
            "2\n",
            "3\n",
            "4\n",
            "5\n"
          ]
        }
      ]
    },
    {
      "cell_type": "code",
      "source": [
        "from sys import exit\n",
        "\n",
        "def gold_room():\n",
        "  print(\"this room is full of gold. How much  fo you take?\")\n",
        "\n",
        "  choice =input(\">\")\n",
        "  if \"0\"in choice or \"1\"in choice:\n",
        "    how_much=int(choic)"
      ],
      "metadata": {
        "colab": {
          "base_uri": "https://localhost:8080/",
          "height": 143
        },
        "id": "dUKC_Qj9QLD3",
        "outputId": "938da107-811f-48ae-f9b9-d51daf894bad"
      },
      "execution_count": null,
      "outputs": [
        {
          "output_type": "error",
          "ename": "SyntaxError",
          "evalue": "ignored",
          "traceback": [
            "\u001b[0;36m  File \u001b[0;32m\"<ipython-input-46-08d987eebb44>\"\u001b[0;36m, line \u001b[0;32m3\u001b[0m\n\u001b[0;31m    def gold_room():\u001b[0m\n\u001b[0m                    ^\u001b[0m\n\u001b[0;31mSyntaxError\u001b[0m\u001b[0;31m:\u001b[0m incomplete input\n"
          ]
        }
      ]
    },
    {
      "cell_type": "code",
      "source": [
        "from sys import argv\n",
        "from os.path import exists\n",
        "\n",
        "script,from_file,to_file=argv\n",
        "\n",
        "print(f\"Copying from{from_file} to {to_file}\")\n",
        "\n",
        "#we could do these two on one line,how?\n",
        "in_file=open(from_file)\n",
        "indata=in_file.read()\n",
        "\n",
        "print(f\"the input file is {len(indata)} bytes long\")\n",
        "\n",
        "print(f\"does the output file exist?{exits(to_file)}\")\n",
        "\n",
        "print(\"ready,hit return yo continue,CTRL-C to abort\")\n",
        "\n",
        "input()\n",
        "\n",
        "out_file=open(to_file,\"w\")\n",
        "\n",
        "out_file.write(indata)\n",
        "\n",
        "print(\"alright,all done \")\n",
        "\n",
        "out_file.close()\n",
        "in_file.close()\n",
        "\n",
        "\n",
        "\n"
      ],
      "metadata": {
        "id": "jXNiz68ZLF4T",
        "colab": {
          "base_uri": "https://localhost:8080/",
          "height": 264
        },
        "outputId": "6cd64133-c5af-4711-ea28-18a7e56a0392"
      },
      "execution_count": null,
      "outputs": [
        {
          "output_type": "stream",
          "name": "stdout",
          "text": [
            "Copying from-f to /root/.local/share/jupyter/runtime/kernel-0c475671-b3b7-4945-b684-0ca8b6bc2b15.json\n"
          ]
        },
        {
          "output_type": "error",
          "ename": "FileNotFoundError",
          "evalue": "ignored",
          "traceback": [
            "\u001b[0;31m---------------------------------------------------------------------------\u001b[0m",
            "\u001b[0;31mFileNotFoundError\u001b[0m                         Traceback (most recent call last)",
            "\u001b[0;32m<ipython-input-5-2af5e3aaeae4>\u001b[0m in \u001b[0;36m<cell line: 9>\u001b[0;34m()\u001b[0m\n\u001b[1;32m      7\u001b[0m \u001b[0;34m\u001b[0m\u001b[0m\n\u001b[1;32m      8\u001b[0m \u001b[0;31m#we could do these two on one line,how?\u001b[0m\u001b[0;34m\u001b[0m\u001b[0;34m\u001b[0m\u001b[0m\n\u001b[0;32m----> 9\u001b[0;31m \u001b[0min_file\u001b[0m\u001b[0;34m=\u001b[0m\u001b[0mopen\u001b[0m\u001b[0;34m(\u001b[0m\u001b[0mfrom_file\u001b[0m\u001b[0;34m)\u001b[0m\u001b[0;34m\u001b[0m\u001b[0;34m\u001b[0m\u001b[0m\n\u001b[0m\u001b[1;32m     10\u001b[0m \u001b[0mindata\u001b[0m\u001b[0;34m=\u001b[0m\u001b[0min_file\u001b[0m\u001b[0;34m.\u001b[0m\u001b[0mread\u001b[0m\u001b[0;34m(\u001b[0m\u001b[0;34m)\u001b[0m\u001b[0;34m\u001b[0m\u001b[0;34m\u001b[0m\u001b[0m\n\u001b[1;32m     11\u001b[0m \u001b[0;34m\u001b[0m\u001b[0m\n",
            "\u001b[0;31mFileNotFoundError\u001b[0m: [Errno 2] No such file or directory: '-f'"
          ]
        }
      ]
    },
    {
      "cell_type": "code",
      "source": [
        "import sys\n",
        "scropt,input_encoding,error=sys.argv\n",
        "\n",
        "def main(language_file,encoding,errors):\n",
        "  line=language_file.readline()\n",
        "\n",
        "  if line:\n",
        "    print_line(line,encoding,errors)\n",
        "    return main(language_file,encoding,errors)\n",
        "\n",
        "def print_line(line,encoding,errors):\n",
        "  next_lang=line.strip()\n",
        "  raw_bytes=next_lang.encode(encoding,errors=errors)\n",
        "  cooked_string=raw_bytes.decode(encoding,errors=errors)\n",
        "\n",
        "  print(raw_bytes,\"<===>\",cooked_string)\n",
        "\n",
        "languages=open(\"languages.txt\",encoding=\"utf-8\")\n",
        "\n",
        "main(languges,input_encoding,error)\n"
      ],
      "metadata": {
        "id": "k8CDhmS-zHkX"
      },
      "execution_count": null,
      "outputs": []
    },
    {
      "cell_type": "code",
      "source": [
        "def break_words(stuff):\n",
        "  \"\"\"this function will break up words for us.\"\"\"\n",
        "  words=stuff.split('')\n",
        "  return words\n",
        "\n",
        "def sort_words(words):\n",
        "  \"\"\"Sorts the words\"\"\"\n",
        "  return sorted(words)\n",
        "\n",
        "def print_first_word(words):\n",
        "  \"\"\"Prints the first word after poping it off.\"\"\"\n",
        "  word=word.pop(0)\n",
        "  print(word)\n",
        "\n",
        "def print_last_words(words):\n",
        "  \"\"\"Prints the last word after poping it off\"\"\"\n",
        "  word=words.pop(0)\n",
        "  print(word)\n",
        "\n",
        "\n",
        "def sort_sentence(Sentence):\n",
        "  \"\"\"takes in a full sentence and returnd the sorted words.\"\"\"\n",
        "  words=break_words(sentence)\n",
        "  return sort_words(words)\n",
        "\n",
        "def print_first_and_last(sentence):\n",
        "  \"\"\"Prints the first and last words of the sentence.\"\"\"\n",
        "  words=break_words(sentence)\n",
        "  print_first_word(words)\n",
        "  print_last_word(words)\n",
        "\n",
        "def print_first_and_last_sorted(sentence):\n",
        "  \"\"\"sorts the words then prints the first and last ones.\"\"\"\n",
        "  words=sort_sentence(sentence)\n",
        "  print_first_word(words)\n",
        "  print_last_word(words)"
      ],
      "metadata": {
        "id": "yfl2AuYUzZRE"
      },
      "execution_count": null,
      "outputs": []
    },
    {
      "cell_type": "code",
      "source": [
        "help()"
      ],
      "metadata": {
        "colab": {
          "base_uri": "https://localhost:8080/",
          "height": 1000
        },
        "id": "Qvy_AYI65Rim",
        "outputId": "520cdc59-dfad-4d9b-a0d0-ec2d0556c47b"
      },
      "execution_count": null,
      "outputs": [
        {
          "output_type": "stream",
          "name": "stdout",
          "text": [
            "\n",
            "Welcome to Python 3.10's help utility!\n",
            "\n",
            "If this is your first time using Python, you should definitely check out\n",
            "the tutorial on the internet at https://docs.python.org/3.10/tutorial/.\n",
            "\n",
            "Enter the name of any module, keyword, or topic to get help on writing\n",
            "Python programs and using Python modules.  To quit this help utility and\n",
            "return to the interpreter, just type \"quit\".\n",
            "\n",
            "To get a list of available modules, keywords, symbols, or topics, type\n",
            "\"modules\", \"keywords\", \"symbols\", or \"topics\".  Each module also comes\n",
            "with a one-line summary of what it does; to list the modules whose name\n",
            "or summary contain a given string such as \"spam\", type \"modules spam\".\n",
            "\n",
            "help> modules\n",
            "\n",
            "Please wait a moment while I gather a list of all available modules...\n",
            "\n"
          ]
        },
        {
          "output_type": "stream",
          "name": "stderr",
          "text": [
            "/usr/local/lib/python3.10/dist-packages/IPython/kernel/__init__.py:12: ShimWarning: The `IPython.kernel` package has been deprecated since IPython 4.0.You should import from ipykernel or jupyter_client instead.\n",
            "  warn(\"The `IPython.kernel` package has been deprecated since IPython 4.0.\"\n",
            "/usr/local/lib/python3.10/dist-packages/altair/vega/v5/__init__.py:18: AltairDeprecationWarning: The module altair.vega.v5 is deprecated and will be removed in Altair 5.\n",
            "  warnings.warn(\n",
            "/usr/local/lib/python3.10/dist-packages/altair/vegalite/v3/__init__.py:29: AltairDeprecationWarning: The module altair.vegalite.v3 is deprecated and will be removed in Altair 5. Use `import altair as alt` instead of `import altair.vegalite.v3 as alt`.\n",
            "  warnings.warn(\n",
            "/usr/local/lib/python3.10/dist-packages/jupyter_client/ssh/tunnel.py:57: DeprecationWarning:\n",
            "\n",
            "zmq.utils.strtypes is deprecated in pyzmq 23.\n",
            "\n"
          ]
        },
        {
          "output_type": "stream",
          "name": "stdout",
          "text": [
            "Downloading https://dlib.net/files/shape_predictor_68_face_landmarks.dat.bz2 to /root/mlxtend_data/shape_predictor_68_face_landmarks.dat.bz2\n"
          ]
        },
        {
          "output_type": "stream",
          "name": "stderr",
          "text": [
            "/usr/local/lib/python3.10/dist-packages/moviepy/video/fx/painting.py:7: DeprecationWarning:\n",
            "\n",
            "Please use `sobel` from the `scipy.ndimage` namespace, the `scipy.ndimage.filters` namespace is deprecated.\n",
            "\n",
            "/usr/lib/python3.10/pkgutil.py:92: UserWarning:\n",
            "\n",
            "The DICOM readers are highly experimental, unstable, and only work for Siemens time-series at the moment\n",
            "Please use with caution.  We would be grateful for your help in improving them\n",
            "\n",
            "/usr/local/lib/python3.10/dist-packages/nltk/twitter/__init__.py:20: UserWarning:\n",
            "\n",
            "The twython library has not been installed. Some functionality from the twitter package will not be available.\n",
            "\n",
            "/usr/local/lib/python3.10/dist-packages/notebook/utils.py:280: DeprecationWarning:\n",
            "\n",
            "distutils Version classes are deprecated. Use packaging.version instead.\n",
            "\n",
            "/usr/local/lib/python3.10/dist-packages/notebook/utils.py:280: DeprecationWarning:\n",
            "\n",
            "distutils Version classes are deprecated. Use packaging.version instead.\n",
            "\n",
            "/usr/local/lib/python3.10/dist-packages/matplotlib_inline/config.py:68: DeprecationWarning:\n",
            "\n",
            "InlineBackend._figure_format_changed is deprecated in traitlets 4.1: use @observe and @unobserve instead.\n",
            "\n",
            "/usr/lib/python3.10/pkgutil.py:92: NumbaPendingDeprecationWarning:\n",
            "\n",
            "The 'pycc' module is pending deprecation. Replacement technology is being developed.\n",
            "\n",
            "Pending Deprecation in Numba 0.57.0. For more information please see: https://numba.readthedocs.io/en/stable/reference/deprecation.html#deprecation-of-the-numba-pycc-module\n",
            "\n",
            "/usr/lib/python3.10/pkgutil.py:92: UserWarning:\n",
            "\n",
            "The numpy.array_api submodule is still experimental. See NEP 47.\n",
            "\n",
            "/usr/lib/python3.10/pkgutil.py:92: DeprecationWarning:\n",
            "\n",
            "\n",
            "\n",
            "  `numpy.distutils` is deprecated since NumPy 1.23.0, as a result\n",
            "  of the deprecation of `distutils` itself. It will be removed for\n",
            "  Python >= 3.12. For older Python versions it will remain present.\n",
            "  It is recommended to use `setuptools < 60.0` for those Python versions.\n",
            "  For more details, see:\n",
            "    https://numpy.org/devdocs/reference/distutils_status_migration.html \n",
            "\n",
            "\n",
            "\n",
            "/usr/local/lib/python3.10/dist-packages/pandas_datareader/compat/__init__.py:11: DeprecationWarning:\n",
            "\n",
            "distutils Version classes are deprecated. Use packaging.version instead.\n",
            "\n",
            "/usr/local/lib/python3.10/dist-packages/pandas_datareader/compat/__init__.py:13: DeprecationWarning:\n",
            "\n",
            "distutils Version classes are deprecated. Use packaging.version instead.\n",
            "\n",
            "/usr/local/lib/python3.10/dist-packages/pandas_datareader/compat/__init__.py:14: DeprecationWarning:\n",
            "\n",
            "distutils Version classes are deprecated. Use packaging.version instead.\n",
            "\n",
            "/usr/local/lib/python3.10/dist-packages/pandas_datareader/compat/__init__.py:15: DeprecationWarning:\n",
            "\n",
            "distutils Version classes are deprecated. Use packaging.version instead.\n",
            "\n",
            "/usr/local/lib/python3.10/dist-packages/pip/_vendor/pkg_resources/__init__.py:121: DeprecationWarning:\n",
            "\n",
            "pkg_resources is deprecated as an API\n",
            "\n",
            "/usr/local/lib/python3.10/dist-packages/pip/_vendor/pkg_resources/__init__.py:2870: DeprecationWarning:\n",
            "\n",
            "Deprecated call to `pkg_resources.declare_namespace('google')`.\n",
            "Implementing implicit namespace packages (as specified in PEP 420) is preferred to `pkg_resources.declare_namespace`. See https://setuptools.pypa.io/en/latest/references/keywords.html#keyword-namespace-packages\n",
            "\n",
            "/usr/local/lib/python3.10/dist-packages/pip/_vendor/pkg_resources/__init__.py:2870: DeprecationWarning:\n",
            "\n",
            "Deprecated call to `pkg_resources.declare_namespace('google.ai')`.\n",
            "Implementing implicit namespace packages (as specified in PEP 420) is preferred to `pkg_resources.declare_namespace`. See https://setuptools.pypa.io/en/latest/references/keywords.html#keyword-namespace-packages\n",
            "\n",
            "/usr/local/lib/python3.10/dist-packages/pip/_vendor/pkg_resources/__init__.py:2349: DeprecationWarning:\n",
            "\n",
            "Deprecated call to `pkg_resources.declare_namespace('google')`.\n",
            "Implementing implicit namespace packages (as specified in PEP 420) is preferred to `pkg_resources.declare_namespace`. See https://setuptools.pypa.io/en/latest/references/keywords.html#keyword-namespace-packages\n",
            "\n",
            "/usr/local/lib/python3.10/dist-packages/pip/_vendor/pkg_resources/__init__.py:2870: DeprecationWarning:\n",
            "\n",
            "Deprecated call to `pkg_resources.declare_namespace('google')`.\n",
            "Implementing implicit namespace packages (as specified in PEP 420) is preferred to `pkg_resources.declare_namespace`. See https://setuptools.pypa.io/en/latest/references/keywords.html#keyword-namespace-packages\n",
            "\n",
            "/usr/local/lib/python3.10/dist-packages/pip/_vendor/pkg_resources/__init__.py:2870: DeprecationWarning:\n",
            "\n",
            "Deprecated call to `pkg_resources.declare_namespace('google')`.\n",
            "Implementing implicit namespace packages (as specified in PEP 420) is preferred to `pkg_resources.declare_namespace`. See https://setuptools.pypa.io/en/latest/references/keywords.html#keyword-namespace-packages\n",
            "\n",
            "/usr/local/lib/python3.10/dist-packages/pip/_vendor/pkg_resources/__init__.py:2870: DeprecationWarning:\n",
            "\n",
            "Deprecated call to `pkg_resources.declare_namespace('google')`.\n",
            "Implementing implicit namespace packages (as specified in PEP 420) is preferred to `pkg_resources.declare_namespace`. See https://setuptools.pypa.io/en/latest/references/keywords.html#keyword-namespace-packages\n",
            "\n",
            "/usr/local/lib/python3.10/dist-packages/pip/_vendor/pkg_resources/__init__.py:2870: DeprecationWarning:\n",
            "\n",
            "Deprecated call to `pkg_resources.declare_namespace('google.cloud')`.\n",
            "Implementing implicit namespace packages (as specified in PEP 420) is preferred to `pkg_resources.declare_namespace`. See https://setuptools.pypa.io/en/latest/references/keywords.html#keyword-namespace-packages\n",
            "\n",
            "/usr/local/lib/python3.10/dist-packages/pip/_vendor/pkg_resources/__init__.py:2349: DeprecationWarning:\n",
            "\n",
            "Deprecated call to `pkg_resources.declare_namespace('google')`.\n",
            "Implementing implicit namespace packages (as specified in PEP 420) is preferred to `pkg_resources.declare_namespace`. See https://setuptools.pypa.io/en/latest/references/keywords.html#keyword-namespace-packages\n",
            "\n",
            "/usr/local/lib/python3.10/dist-packages/pip/_vendor/pkg_resources/__init__.py:2870: DeprecationWarning:\n",
            "\n",
            "Deprecated call to `pkg_resources.declare_namespace('google')`.\n",
            "Implementing implicit namespace packages (as specified in PEP 420) is preferred to `pkg_resources.declare_namespace`. See https://setuptools.pypa.io/en/latest/references/keywords.html#keyword-namespace-packages\n",
            "\n",
            "/usr/local/lib/python3.10/dist-packages/pip/_vendor/pkg_resources/__init__.py:2870: DeprecationWarning:\n",
            "\n",
            "Deprecated call to `pkg_resources.declare_namespace('google.cloud')`.\n",
            "Implementing implicit namespace packages (as specified in PEP 420) is preferred to `pkg_resources.declare_namespace`. See https://setuptools.pypa.io/en/latest/references/keywords.html#keyword-namespace-packages\n",
            "\n",
            "/usr/local/lib/python3.10/dist-packages/pip/_vendor/pkg_resources/__init__.py:2870: DeprecationWarning:\n",
            "\n",
            "Deprecated call to `pkg_resources.declare_namespace('google')`.\n",
            "Implementing implicit namespace packages (as specified in PEP 420) is preferred to `pkg_resources.declare_namespace`. See https://setuptools.pypa.io/en/latest/references/keywords.html#keyword-namespace-packages\n",
            "\n",
            "/usr/local/lib/python3.10/dist-packages/pip/_vendor/pkg_resources/__init__.py:2870: DeprecationWarning:\n",
            "\n",
            "Deprecated call to `pkg_resources.declare_namespace('google.cloud')`.\n",
            "Implementing implicit namespace packages (as specified in PEP 420) is preferred to `pkg_resources.declare_namespace`. See https://setuptools.pypa.io/en/latest/references/keywords.html#keyword-namespace-packages\n",
            "\n",
            "/usr/local/lib/python3.10/dist-packages/pip/_vendor/pkg_resources/__init__.py:2870: DeprecationWarning:\n",
            "\n",
            "Deprecated call to `pkg_resources.declare_namespace('google')`.\n",
            "Implementing implicit namespace packages (as specified in PEP 420) is preferred to `pkg_resources.declare_namespace`. See https://setuptools.pypa.io/en/latest/references/keywords.html#keyword-namespace-packages\n",
            "\n",
            "/usr/local/lib/python3.10/dist-packages/pip/_vendor/pkg_resources/__init__.py:2870: DeprecationWarning:\n",
            "\n",
            "Deprecated call to `pkg_resources.declare_namespace('google.cloud')`.\n",
            "Implementing implicit namespace packages (as specified in PEP 420) is preferred to `pkg_resources.declare_namespace`. See https://setuptools.pypa.io/en/latest/references/keywords.html#keyword-namespace-packages\n",
            "\n",
            "/usr/local/lib/python3.10/dist-packages/pip/_vendor/pkg_resources/__init__.py:2870: DeprecationWarning:\n",
            "\n",
            "Deprecated call to `pkg_resources.declare_namespace('google')`.\n",
            "Implementing implicit namespace packages (as specified in PEP 420) is preferred to `pkg_resources.declare_namespace`. See https://setuptools.pypa.io/en/latest/references/keywords.html#keyword-namespace-packages\n",
            "\n",
            "/usr/local/lib/python3.10/dist-packages/pip/_vendor/pkg_resources/__init__.py:2870: DeprecationWarning:\n",
            "\n",
            "Deprecated call to `pkg_resources.declare_namespace('google.cloud')`.\n",
            "Implementing implicit namespace packages (as specified in PEP 420) is preferred to `pkg_resources.declare_namespace`. See https://setuptools.pypa.io/en/latest/references/keywords.html#keyword-namespace-packages\n",
            "\n",
            "/usr/local/lib/python3.10/dist-packages/pip/_vendor/pkg_resources/__init__.py:2870: DeprecationWarning:\n",
            "\n",
            "Deprecated call to `pkg_resources.declare_namespace('google')`.\n",
            "Implementing implicit namespace packages (as specified in PEP 420) is preferred to `pkg_resources.declare_namespace`. See https://setuptools.pypa.io/en/latest/references/keywords.html#keyword-namespace-packages\n",
            "\n",
            "/usr/local/lib/python3.10/dist-packages/pip/_vendor/pkg_resources/__init__.py:2870: DeprecationWarning:\n",
            "\n",
            "Deprecated call to `pkg_resources.declare_namespace('google.cloud')`.\n",
            "Implementing implicit namespace packages (as specified in PEP 420) is preferred to `pkg_resources.declare_namespace`. See https://setuptools.pypa.io/en/latest/references/keywords.html#keyword-namespace-packages\n",
            "\n",
            "/usr/local/lib/python3.10/dist-packages/pip/_vendor/pkg_resources/__init__.py:2870: DeprecationWarning:\n",
            "\n",
            "Deprecated call to `pkg_resources.declare_namespace('google')`.\n",
            "Implementing implicit namespace packages (as specified in PEP 420) is preferred to `pkg_resources.declare_namespace`. See https://setuptools.pypa.io/en/latest/references/keywords.html#keyword-namespace-packages\n",
            "\n",
            "/usr/local/lib/python3.10/dist-packages/pip/_vendor/pkg_resources/__init__.py:2870: DeprecationWarning:\n",
            "\n",
            "Deprecated call to `pkg_resources.declare_namespace('google.cloud')`.\n",
            "Implementing implicit namespace packages (as specified in PEP 420) is preferred to `pkg_resources.declare_namespace`. See https://setuptools.pypa.io/en/latest/references/keywords.html#keyword-namespace-packages\n",
            "\n",
            "/usr/local/lib/python3.10/dist-packages/pip/_vendor/pkg_resources/__init__.py:2870: DeprecationWarning:\n",
            "\n",
            "Deprecated call to `pkg_resources.declare_namespace('google')`.\n",
            "Implementing implicit namespace packages (as specified in PEP 420) is preferred to `pkg_resources.declare_namespace`. See https://setuptools.pypa.io/en/latest/references/keywords.html#keyword-namespace-packages\n",
            "\n",
            "/usr/local/lib/python3.10/dist-packages/pip/_vendor/pkg_resources/__init__.py:2870: DeprecationWarning:\n",
            "\n",
            "Deprecated call to `pkg_resources.declare_namespace('google.cloud')`.\n",
            "Implementing implicit namespace packages (as specified in PEP 420) is preferred to `pkg_resources.declare_namespace`. See https://setuptools.pypa.io/en/latest/references/keywords.html#keyword-namespace-packages\n",
            "\n",
            "/usr/local/lib/python3.10/dist-packages/pip/_vendor/pkg_resources/__init__.py:2870: DeprecationWarning:\n",
            "\n",
            "Deprecated call to `pkg_resources.declare_namespace('google')`.\n",
            "Implementing implicit namespace packages (as specified in PEP 420) is preferred to `pkg_resources.declare_namespace`. See https://setuptools.pypa.io/en/latest/references/keywords.html#keyword-namespace-packages\n",
            "\n",
            "/usr/local/lib/python3.10/dist-packages/pip/_vendor/pkg_resources/__init__.py:2870: DeprecationWarning:\n",
            "\n",
            "Deprecated call to `pkg_resources.declare_namespace('google.cloud')`.\n",
            "Implementing implicit namespace packages (as specified in PEP 420) is preferred to `pkg_resources.declare_namespace`. See https://setuptools.pypa.io/en/latest/references/keywords.html#keyword-namespace-packages\n",
            "\n",
            "/usr/local/lib/python3.10/dist-packages/pip/_vendor/pkg_resources/__init__.py:2870: DeprecationWarning:\n",
            "\n",
            "Deprecated call to `pkg_resources.declare_namespace('google')`.\n",
            "Implementing implicit namespace packages (as specified in PEP 420) is preferred to `pkg_resources.declare_namespace`. See https://setuptools.pypa.io/en/latest/references/keywords.html#keyword-namespace-packages\n",
            "\n",
            "/usr/local/lib/python3.10/dist-packages/pip/_vendor/pkg_resources/__init__.py:2870: DeprecationWarning:\n",
            "\n",
            "Deprecated call to `pkg_resources.declare_namespace('google.cloud')`.\n",
            "Implementing implicit namespace packages (as specified in PEP 420) is preferred to `pkg_resources.declare_namespace`. See https://setuptools.pypa.io/en/latest/references/keywords.html#keyword-namespace-packages\n",
            "\n",
            "/usr/local/lib/python3.10/dist-packages/pip/_vendor/pkg_resources/__init__.py:2870: DeprecationWarning:\n",
            "\n",
            "Deprecated call to `pkg_resources.declare_namespace('google')`.\n",
            "Implementing implicit namespace packages (as specified in PEP 420) is preferred to `pkg_resources.declare_namespace`. See https://setuptools.pypa.io/en/latest/references/keywords.html#keyword-namespace-packages\n",
            "\n",
            "/usr/local/lib/python3.10/dist-packages/pip/_vendor/pkg_resources/__init__.py:2870: DeprecationWarning:\n",
            "\n",
            "Deprecated call to `pkg_resources.declare_namespace('google.cloud')`.\n",
            "Implementing implicit namespace packages (as specified in PEP 420) is preferred to `pkg_resources.declare_namespace`. See https://setuptools.pypa.io/en/latest/references/keywords.html#keyword-namespace-packages\n",
            "\n",
            "/usr/local/lib/python3.10/dist-packages/pip/_vendor/pkg_resources/__init__.py:2870: DeprecationWarning:\n",
            "\n",
            "Deprecated call to `pkg_resources.declare_namespace('google')`.\n",
            "Implementing implicit namespace packages (as specified in PEP 420) is preferred to `pkg_resources.declare_namespace`. See https://setuptools.pypa.io/en/latest/references/keywords.html#keyword-namespace-packages\n",
            "\n",
            "/usr/local/lib/python3.10/dist-packages/pip/_vendor/pkg_resources/__init__.py:2870: DeprecationWarning:\n",
            "\n",
            "Deprecated call to `pkg_resources.declare_namespace('google.cloud')`.\n",
            "Implementing implicit namespace packages (as specified in PEP 420) is preferred to `pkg_resources.declare_namespace`. See https://setuptools.pypa.io/en/latest/references/keywords.html#keyword-namespace-packages\n",
            "\n",
            "/usr/local/lib/python3.10/dist-packages/pip/_vendor/pkg_resources/__init__.py:2870: DeprecationWarning:\n",
            "\n",
            "Deprecated call to `pkg_resources.declare_namespace('google')`.\n",
            "Implementing implicit namespace packages (as specified in PEP 420) is preferred to `pkg_resources.declare_namespace`. See https://setuptools.pypa.io/en/latest/references/keywords.html#keyword-namespace-packages\n",
            "\n",
            "/usr/local/lib/python3.10/dist-packages/pip/_vendor/pkg_resources/__init__.py:2870: DeprecationWarning:\n",
            "\n",
            "Deprecated call to `pkg_resources.declare_namespace('google')`.\n",
            "Implementing implicit namespace packages (as specified in PEP 420) is preferred to `pkg_resources.declare_namespace`. See https://setuptools.pypa.io/en/latest/references/keywords.html#keyword-namespace-packages\n",
            "\n",
            "/usr/local/lib/python3.10/dist-packages/pip/_vendor/pkg_resources/__init__.py:2870: DeprecationWarning:\n",
            "\n",
            "Deprecated call to `pkg_resources.declare_namespace('google')`.\n",
            "Implementing implicit namespace packages (as specified in PEP 420) is preferred to `pkg_resources.declare_namespace`. See https://setuptools.pypa.io/en/latest/references/keywords.html#keyword-namespace-packages\n",
            "\n",
            "/usr/local/lib/python3.10/dist-packages/pip/_vendor/pkg_resources/__init__.py:2870: DeprecationWarning:\n",
            "\n",
            "Deprecated call to `pkg_resources.declare_namespace('google.logging')`.\n",
            "Implementing implicit namespace packages (as specified in PEP 420) is preferred to `pkg_resources.declare_namespace`. See https://setuptools.pypa.io/en/latest/references/keywords.html#keyword-namespace-packages\n",
            "\n",
            "/usr/local/lib/python3.10/dist-packages/pip/_vendor/pkg_resources/__init__.py:2349: DeprecationWarning:\n",
            "\n",
            "Deprecated call to `pkg_resources.declare_namespace('google')`.\n",
            "Implementing implicit namespace packages (as specified in PEP 420) is preferred to `pkg_resources.declare_namespace`. See https://setuptools.pypa.io/en/latest/references/keywords.html#keyword-namespace-packages\n",
            "\n",
            "/usr/local/lib/python3.10/dist-packages/pip/_vendor/pkg_resources/__init__.py:2870: DeprecationWarning:\n",
            "\n",
            "Deprecated call to `pkg_resources.declare_namespace('google')`.\n",
            "Implementing implicit namespace packages (as specified in PEP 420) is preferred to `pkg_resources.declare_namespace`. See https://setuptools.pypa.io/en/latest/references/keywords.html#keyword-namespace-packages\n",
            "\n",
            "/usr/local/lib/python3.10/dist-packages/pip/_vendor/pkg_resources/__init__.py:2870: DeprecationWarning:\n",
            "\n",
            "Deprecated call to `pkg_resources.declare_namespace('google.iam')`.\n",
            "Implementing implicit namespace packages (as specified in PEP 420) is preferred to `pkg_resources.declare_namespace`. See https://setuptools.pypa.io/en/latest/references/keywords.html#keyword-namespace-packages\n",
            "\n",
            "/usr/local/lib/python3.10/dist-packages/pip/_vendor/pkg_resources/__init__.py:2349: DeprecationWarning:\n",
            "\n",
            "Deprecated call to `pkg_resources.declare_namespace('google')`.\n",
            "Implementing implicit namespace packages (as specified in PEP 420) is preferred to `pkg_resources.declare_namespace`. See https://setuptools.pypa.io/en/latest/references/keywords.html#keyword-namespace-packages\n",
            "\n",
            "/usr/local/lib/python3.10/dist-packages/pip/_vendor/pkg_resources/__init__.py:2870: DeprecationWarning:\n",
            "\n",
            "Deprecated call to `pkg_resources.declare_namespace('mpl_toolkits')`.\n",
            "Implementing implicit namespace packages (as specified in PEP 420) is preferred to `pkg_resources.declare_namespace`. See https://setuptools.pypa.io/en/latest/references/keywords.html#keyword-namespace-packages\n",
            "\n",
            "/usr/local/lib/python3.10/dist-packages/pip/_vendor/pkg_resources/__init__.py:2870: DeprecationWarning:\n",
            "\n",
            "Deprecated call to `pkg_resources.declare_namespace('google')`.\n",
            "Implementing implicit namespace packages (as specified in PEP 420) is preferred to `pkg_resources.declare_namespace`. See https://setuptools.pypa.io/en/latest/references/keywords.html#keyword-namespace-packages\n",
            "\n",
            "/usr/local/lib/python3.10/dist-packages/pip/_vendor/pkg_resources/__init__.py:2870: DeprecationWarning:\n",
            "\n",
            "Deprecated call to `pkg_resources.declare_namespace('sphinxcontrib')`.\n",
            "Implementing implicit namespace packages (as specified in PEP 420) is preferred to `pkg_resources.declare_namespace`. See https://setuptools.pypa.io/en/latest/references/keywords.html#keyword-namespace-packages\n",
            "\n"
          ]
        },
        {
          "output_type": "stream",
          "name": "stdout",
          "text": [
            "Python version: 3.10.12 (main, Nov 20 2023, 15:14:05) [GCC 11.4.0]\n",
            "GEOS version: 3.11.2-CAPI-1.17.2\n",
            "Numpy version: 1.23.5\n"
          ]
        },
        {
          "output_type": "stream",
          "name": "stderr",
          "text": [
            "/usr/lib/python3.10/pkgutil.py:92: UserWarning: viewer requires Qt\n",
            "/usr/local/lib/python3.10/dist-packages/tensorboard/_vendor/html5lib/filters/sanitizer.py:29: DeprecationWarning: html5lib's sanitizer is deprecated; see https://github.com/html5lib/html5lib-python/issues/443 and please let us know if Bleach is unsuitable for your needs\n",
            "/usr/local/lib/python3.10/dist-packages/tensorflow_probability/python/__init__.py:49: DeprecationWarning: The distutils package is deprecated and slated for removal in Python 3.12. Use setuptools or check PEP 632 for potential alternatives\n",
            "/usr/local/lib/python3.10/dist-packages/torch/distributed/_shard/checkpoint/__init__.py:8: DeprecationWarning: torch.distributed._shard.checkpoint will be deprecated, use torch.distributed.checkpoint instead\n",
            "/usr/local/lib/python3.10/dist-packages/torch/distributed/_sharded_tensor/__init__.py:8: DeprecationWarning: torch.distributed._sharded_tensor will be deprecated, use torch.distributed._shard.sharded_tensor instead\n",
            "/usr/local/lib/python3.10/dist-packages/torch/distributed/_sharding_spec/__init__.py:8: DeprecationWarning: torch.distributed._sharding_spec will be deprecated, use torch.distributed._shard.sharding_spec instead\n",
            "No CUDA runtime is found, using CUDA_HOME='/usr/local/cuda'\n"
          ]
        },
        {
          "output_type": "error",
          "ename": "Skipped",
          "evalue": "ignored",
          "traceback": [
            "\u001b[0;31m---------------------------------------------------------------------------\u001b[0m",
            "\u001b[0;31mSkipped\u001b[0m                                   Traceback (most recent call last)",
            "\u001b[0;32m<ipython-input-18-9778277b2191>\u001b[0m in \u001b[0;36m<cell line: 1>\u001b[0;34m()\u001b[0m\n\u001b[0;32m----> 1\u001b[0;31m \u001b[0mhelp\u001b[0m\u001b[0;34m(\u001b[0m\u001b[0;34m)\u001b[0m\u001b[0;34m\u001b[0m\u001b[0;34m\u001b[0m\u001b[0m\n\u001b[0m",
            "\u001b[0;32m/usr/lib/python3.10/_sitebuiltins.py\u001b[0m in \u001b[0;36m__call__\u001b[0;34m(self, *args, **kwds)\u001b[0m\n\u001b[1;32m    101\u001b[0m     \u001b[0;32mdef\u001b[0m \u001b[0m__call__\u001b[0m\u001b[0;34m(\u001b[0m\u001b[0mself\u001b[0m\u001b[0;34m,\u001b[0m \u001b[0;34m*\u001b[0m\u001b[0margs\u001b[0m\u001b[0;34m,\u001b[0m \u001b[0;34m**\u001b[0m\u001b[0mkwds\u001b[0m\u001b[0;34m)\u001b[0m\u001b[0;34m:\u001b[0m\u001b[0;34m\u001b[0m\u001b[0;34m\u001b[0m\u001b[0m\n\u001b[1;32m    102\u001b[0m         \u001b[0;32mimport\u001b[0m \u001b[0mpydoc\u001b[0m\u001b[0;34m\u001b[0m\u001b[0;34m\u001b[0m\u001b[0m\n\u001b[0;32m--> 103\u001b[0;31m         \u001b[0;32mreturn\u001b[0m \u001b[0mpydoc\u001b[0m\u001b[0;34m.\u001b[0m\u001b[0mhelp\u001b[0m\u001b[0;34m(\u001b[0m\u001b[0;34m*\u001b[0m\u001b[0margs\u001b[0m\u001b[0;34m,\u001b[0m \u001b[0;34m**\u001b[0m\u001b[0mkwds\u001b[0m\u001b[0;34m)\u001b[0m\u001b[0;34m\u001b[0m\u001b[0;34m\u001b[0m\u001b[0m\n\u001b[0m",
            "\u001b[0;32m/usr/lib/python3.10/pydoc.py\u001b[0m in \u001b[0;36m__call__\u001b[0;34m(self, request)\u001b[0m\n\u001b[1;32m   2014\u001b[0m         \u001b[0;32melse\u001b[0m\u001b[0;34m:\u001b[0m\u001b[0;34m\u001b[0m\u001b[0;34m\u001b[0m\u001b[0m\n\u001b[1;32m   2015\u001b[0m             \u001b[0mself\u001b[0m\u001b[0;34m.\u001b[0m\u001b[0mintro\u001b[0m\u001b[0;34m(\u001b[0m\u001b[0;34m)\u001b[0m\u001b[0;34m\u001b[0m\u001b[0;34m\u001b[0m\u001b[0m\n\u001b[0;32m-> 2016\u001b[0;31m             \u001b[0mself\u001b[0m\u001b[0;34m.\u001b[0m\u001b[0minteract\u001b[0m\u001b[0;34m(\u001b[0m\u001b[0;34m)\u001b[0m\u001b[0;34m\u001b[0m\u001b[0;34m\u001b[0m\u001b[0m\n\u001b[0m\u001b[1;32m   2017\u001b[0m             self.output.write('''\n\u001b[1;32m   2018\u001b[0m \u001b[0mYou\u001b[0m \u001b[0mare\u001b[0m \u001b[0mnow\u001b[0m \u001b[0mleaving\u001b[0m \u001b[0mhelp\u001b[0m \u001b[0;32mand\u001b[0m \u001b[0mreturning\u001b[0m \u001b[0mto\u001b[0m \u001b[0mthe\u001b[0m \u001b[0mPython\u001b[0m \u001b[0minterpreter\u001b[0m\u001b[0;34m.\u001b[0m\u001b[0;34m\u001b[0m\u001b[0;34m\u001b[0m\u001b[0m\n",
            "\u001b[0;32m/usr/lib/python3.10/pydoc.py\u001b[0m in \u001b[0;36minteract\u001b[0;34m(self)\u001b[0m\n\u001b[1;32m   2041\u001b[0m                 \u001b[0mself\u001b[0m\u001b[0;34m.\u001b[0m\u001b[0mintro\u001b[0m\u001b[0;34m(\u001b[0m\u001b[0;34m)\u001b[0m\u001b[0;34m\u001b[0m\u001b[0;34m\u001b[0m\u001b[0m\n\u001b[1;32m   2042\u001b[0m             \u001b[0;32melse\u001b[0m\u001b[0;34m:\u001b[0m\u001b[0;34m\u001b[0m\u001b[0;34m\u001b[0m\u001b[0m\n\u001b[0;32m-> 2043\u001b[0;31m                 \u001b[0mself\u001b[0m\u001b[0;34m.\u001b[0m\u001b[0mhelp\u001b[0m\u001b[0;34m(\u001b[0m\u001b[0mrequest\u001b[0m\u001b[0;34m)\u001b[0m\u001b[0;34m\u001b[0m\u001b[0;34m\u001b[0m\u001b[0m\n\u001b[0m\u001b[1;32m   2044\u001b[0m \u001b[0;34m\u001b[0m\u001b[0m\n\u001b[1;32m   2045\u001b[0m     \u001b[0;32mdef\u001b[0m \u001b[0mgetline\u001b[0m\u001b[0;34m(\u001b[0m\u001b[0mself\u001b[0m\u001b[0;34m,\u001b[0m \u001b[0mprompt\u001b[0m\u001b[0;34m)\u001b[0m\u001b[0;34m:\u001b[0m\u001b[0;34m\u001b[0m\u001b[0;34m\u001b[0m\u001b[0m\n",
            "\u001b[0;32m/usr/lib/python3.10/pydoc.py\u001b[0m in \u001b[0;36mhelp\u001b[0;34m(self, request)\u001b[0m\n\u001b[1;32m   2058\u001b[0m             \u001b[0;32melif\u001b[0m \u001b[0mrequest\u001b[0m \u001b[0;34m==\u001b[0m \u001b[0;34m'symbols'\u001b[0m\u001b[0;34m:\u001b[0m \u001b[0mself\u001b[0m\u001b[0;34m.\u001b[0m\u001b[0mlistsymbols\u001b[0m\u001b[0;34m(\u001b[0m\u001b[0;34m)\u001b[0m\u001b[0;34m\u001b[0m\u001b[0;34m\u001b[0m\u001b[0m\n\u001b[1;32m   2059\u001b[0m             \u001b[0;32melif\u001b[0m \u001b[0mrequest\u001b[0m \u001b[0;34m==\u001b[0m \u001b[0;34m'topics'\u001b[0m\u001b[0;34m:\u001b[0m \u001b[0mself\u001b[0m\u001b[0;34m.\u001b[0m\u001b[0mlisttopics\u001b[0m\u001b[0;34m(\u001b[0m\u001b[0;34m)\u001b[0m\u001b[0;34m\u001b[0m\u001b[0;34m\u001b[0m\u001b[0m\n\u001b[0;32m-> 2060\u001b[0;31m             \u001b[0;32melif\u001b[0m \u001b[0mrequest\u001b[0m \u001b[0;34m==\u001b[0m \u001b[0;34m'modules'\u001b[0m\u001b[0;34m:\u001b[0m \u001b[0mself\u001b[0m\u001b[0;34m.\u001b[0m\u001b[0mlistmodules\u001b[0m\u001b[0;34m(\u001b[0m\u001b[0;34m)\u001b[0m\u001b[0;34m\u001b[0m\u001b[0;34m\u001b[0m\u001b[0m\n\u001b[0m\u001b[1;32m   2061\u001b[0m             \u001b[0;32melif\u001b[0m \u001b[0mrequest\u001b[0m\u001b[0;34m[\u001b[0m\u001b[0;34m:\u001b[0m\u001b[0;36m8\u001b[0m\u001b[0;34m]\u001b[0m \u001b[0;34m==\u001b[0m \u001b[0;34m'modules '\u001b[0m\u001b[0;34m:\u001b[0m\u001b[0;34m\u001b[0m\u001b[0;34m\u001b[0m\u001b[0m\n\u001b[1;32m   2062\u001b[0m                 \u001b[0mself\u001b[0m\u001b[0;34m.\u001b[0m\u001b[0mlistmodules\u001b[0m\u001b[0;34m(\u001b[0m\u001b[0mrequest\u001b[0m\u001b[0;34m.\u001b[0m\u001b[0msplit\u001b[0m\u001b[0;34m(\u001b[0m\u001b[0;34m)\u001b[0m\u001b[0;34m[\u001b[0m\u001b[0;36m1\u001b[0m\u001b[0;34m]\u001b[0m\u001b[0;34m)\u001b[0m\u001b[0;34m\u001b[0m\u001b[0;34m\u001b[0m\u001b[0m\n",
            "\u001b[0;32m/usr/lib/python3.10/pydoc.py\u001b[0m in \u001b[0;36mlistmodules\u001b[0;34m(self, key)\u001b[0m\n\u001b[1;32m   2210\u001b[0m             \u001b[0;32mdef\u001b[0m \u001b[0monerror\u001b[0m\u001b[0;34m(\u001b[0m\u001b[0mmodname\u001b[0m\u001b[0;34m)\u001b[0m\u001b[0;34m:\u001b[0m\u001b[0;34m\u001b[0m\u001b[0;34m\u001b[0m\u001b[0m\n\u001b[1;32m   2211\u001b[0m                 \u001b[0mcallback\u001b[0m\u001b[0;34m(\u001b[0m\u001b[0;32mNone\u001b[0m\u001b[0;34m,\u001b[0m \u001b[0mmodname\u001b[0m\u001b[0;34m,\u001b[0m \u001b[0;32mNone\u001b[0m\u001b[0;34m)\u001b[0m\u001b[0;34m\u001b[0m\u001b[0;34m\u001b[0m\u001b[0m\n\u001b[0;32m-> 2212\u001b[0;31m             \u001b[0mModuleScanner\u001b[0m\u001b[0;34m(\u001b[0m\u001b[0;34m)\u001b[0m\u001b[0;34m.\u001b[0m\u001b[0mrun\u001b[0m\u001b[0;34m(\u001b[0m\u001b[0mcallback\u001b[0m\u001b[0;34m,\u001b[0m \u001b[0monerror\u001b[0m\u001b[0;34m=\u001b[0m\u001b[0monerror\u001b[0m\u001b[0;34m)\u001b[0m\u001b[0;34m\u001b[0m\u001b[0;34m\u001b[0m\u001b[0m\n\u001b[0m\u001b[1;32m   2213\u001b[0m             \u001b[0mself\u001b[0m\u001b[0;34m.\u001b[0m\u001b[0mlist\u001b[0m\u001b[0;34m(\u001b[0m\u001b[0mmodules\u001b[0m\u001b[0;34m.\u001b[0m\u001b[0mkeys\u001b[0m\u001b[0;34m(\u001b[0m\u001b[0;34m)\u001b[0m\u001b[0;34m)\u001b[0m\u001b[0;34m\u001b[0m\u001b[0;34m\u001b[0m\u001b[0m\n\u001b[1;32m   2214\u001b[0m             self.output.write('''\n",
            "\u001b[0;32m/usr/lib/python3.10/pydoc.py\u001b[0m in \u001b[0;36mrun\u001b[0;34m(self, callback, key, completer, onerror)\u001b[0m\n\u001b[1;32m   2239\u001b[0m                         \u001b[0mcallback\u001b[0m\u001b[0;34m(\u001b[0m\u001b[0;32mNone\u001b[0m\u001b[0;34m,\u001b[0m \u001b[0mmodname\u001b[0m\u001b[0;34m,\u001b[0m \u001b[0mdesc\u001b[0m\u001b[0;34m)\u001b[0m\u001b[0;34m\u001b[0m\u001b[0;34m\u001b[0m\u001b[0m\n\u001b[1;32m   2240\u001b[0m \u001b[0;34m\u001b[0m\u001b[0m\n\u001b[0;32m-> 2241\u001b[0;31m         \u001b[0;32mfor\u001b[0m \u001b[0mimporter\u001b[0m\u001b[0;34m,\u001b[0m \u001b[0mmodname\u001b[0m\u001b[0;34m,\u001b[0m \u001b[0mispkg\u001b[0m \u001b[0;32min\u001b[0m \u001b[0mpkgutil\u001b[0m\u001b[0;34m.\u001b[0m\u001b[0mwalk_packages\u001b[0m\u001b[0;34m(\u001b[0m\u001b[0monerror\u001b[0m\u001b[0;34m=\u001b[0m\u001b[0monerror\u001b[0m\u001b[0;34m)\u001b[0m\u001b[0;34m:\u001b[0m\u001b[0;34m\u001b[0m\u001b[0;34m\u001b[0m\u001b[0m\n\u001b[0m\u001b[1;32m   2242\u001b[0m             \u001b[0;32mif\u001b[0m \u001b[0mself\u001b[0m\u001b[0;34m.\u001b[0m\u001b[0mquit\u001b[0m\u001b[0;34m:\u001b[0m\u001b[0;34m\u001b[0m\u001b[0;34m\u001b[0m\u001b[0m\n\u001b[1;32m   2243\u001b[0m                 \u001b[0;32mbreak\u001b[0m\u001b[0;34m\u001b[0m\u001b[0;34m\u001b[0m\u001b[0m\n",
            "\u001b[0;32m/usr/lib/python3.10/pkgutil.py\u001b[0m in \u001b[0;36mwalk_packages\u001b[0;34m(path, prefix, onerror)\u001b[0m\n\u001b[1;32m    105\u001b[0m                 \u001b[0mpath\u001b[0m \u001b[0;34m=\u001b[0m \u001b[0;34m[\u001b[0m\u001b[0mp\u001b[0m \u001b[0;32mfor\u001b[0m \u001b[0mp\u001b[0m \u001b[0;32min\u001b[0m \u001b[0mpath\u001b[0m \u001b[0;32mif\u001b[0m \u001b[0;32mnot\u001b[0m \u001b[0mseen\u001b[0m\u001b[0;34m(\u001b[0m\u001b[0mp\u001b[0m\u001b[0;34m)\u001b[0m\u001b[0;34m]\u001b[0m\u001b[0;34m\u001b[0m\u001b[0;34m\u001b[0m\u001b[0m\n\u001b[1;32m    106\u001b[0m \u001b[0;34m\u001b[0m\u001b[0m\n\u001b[0;32m--> 107\u001b[0;31m                 \u001b[0;32myield\u001b[0m \u001b[0;32mfrom\u001b[0m \u001b[0mwalk_packages\u001b[0m\u001b[0;34m(\u001b[0m\u001b[0mpath\u001b[0m\u001b[0;34m,\u001b[0m \u001b[0minfo\u001b[0m\u001b[0;34m.\u001b[0m\u001b[0mname\u001b[0m\u001b[0;34m+\u001b[0m\u001b[0;34m'.'\u001b[0m\u001b[0;34m,\u001b[0m \u001b[0monerror\u001b[0m\u001b[0;34m)\u001b[0m\u001b[0;34m\u001b[0m\u001b[0;34m\u001b[0m\u001b[0m\n\u001b[0m\u001b[1;32m    108\u001b[0m \u001b[0;34m\u001b[0m\u001b[0m\n\u001b[1;32m    109\u001b[0m \u001b[0;34m\u001b[0m\u001b[0m\n",
            "\u001b[0;32m/usr/lib/python3.10/pkgutil.py\u001b[0m in \u001b[0;36mwalk_packages\u001b[0;34m(path, prefix, onerror)\u001b[0m\n\u001b[1;32m     90\u001b[0m         \u001b[0;32mif\u001b[0m \u001b[0minfo\u001b[0m\u001b[0;34m.\u001b[0m\u001b[0mispkg\u001b[0m\u001b[0;34m:\u001b[0m\u001b[0;34m\u001b[0m\u001b[0;34m\u001b[0m\u001b[0m\n\u001b[1;32m     91\u001b[0m             \u001b[0;32mtry\u001b[0m\u001b[0;34m:\u001b[0m\u001b[0;34m\u001b[0m\u001b[0;34m\u001b[0m\u001b[0m\n\u001b[0;32m---> 92\u001b[0;31m                 \u001b[0m__import__\u001b[0m\u001b[0;34m(\u001b[0m\u001b[0minfo\u001b[0m\u001b[0;34m.\u001b[0m\u001b[0mname\u001b[0m\u001b[0;34m)\u001b[0m\u001b[0;34m\u001b[0m\u001b[0;34m\u001b[0m\u001b[0m\n\u001b[0m\u001b[1;32m     93\u001b[0m             \u001b[0;32mexcept\u001b[0m \u001b[0mImportError\u001b[0m\u001b[0;34m:\u001b[0m\u001b[0;34m\u001b[0m\u001b[0;34m\u001b[0m\u001b[0m\n\u001b[1;32m     94\u001b[0m                 \u001b[0;32mif\u001b[0m \u001b[0monerror\u001b[0m \u001b[0;32mis\u001b[0m \u001b[0;32mnot\u001b[0m \u001b[0;32mNone\u001b[0m\u001b[0;34m:\u001b[0m\u001b[0;34m\u001b[0m\u001b[0;34m\u001b[0m\u001b[0m\n",
            "\u001b[0;32m/usr/local/lib/python3.10/dist-packages/xgboost/testing/__init__.py\u001b[0m in \u001b[0;36m<module>\u001b[0;34m\u001b[0m\n\u001b[1;32m     45\u001b[0m )\n\u001b[1;32m     46\u001b[0m \u001b[0;34m\u001b[0m\u001b[0m\n\u001b[0;32m---> 47\u001b[0;31m \u001b[0mhypothesis\u001b[0m \u001b[0;34m=\u001b[0m \u001b[0mpytest\u001b[0m\u001b[0;34m.\u001b[0m\u001b[0mimportorskip\u001b[0m\u001b[0;34m(\u001b[0m\u001b[0;34m\"hypothesis\"\u001b[0m\u001b[0;34m)\u001b[0m\u001b[0;34m\u001b[0m\u001b[0;34m\u001b[0m\u001b[0m\n\u001b[0m\u001b[1;32m     48\u001b[0m \u001b[0;34m\u001b[0m\u001b[0m\n\u001b[1;32m     49\u001b[0m \u001b[0;31m# pylint:disable=wrong-import-position,wrong-import-order\u001b[0m\u001b[0;34m\u001b[0m\u001b[0;34m\u001b[0m\u001b[0m\n",
            "\u001b[0;32m/usr/local/lib/python3.10/dist-packages/_pytest/outcomes.py\u001b[0m in \u001b[0;36mimportorskip\u001b[0;34m(modname, minversion, reason)\u001b[0m\n\u001b[1;32m    294\u001b[0m             \u001b[0;32mif\u001b[0m \u001b[0mreason\u001b[0m \u001b[0;32mis\u001b[0m \u001b[0;32mNone\u001b[0m\u001b[0;34m:\u001b[0m\u001b[0;34m\u001b[0m\u001b[0;34m\u001b[0m\u001b[0m\n\u001b[1;32m    295\u001b[0m                 \u001b[0mreason\u001b[0m \u001b[0;34m=\u001b[0m \u001b[0;34mf\"could not import {modname!r}: {exc}\"\u001b[0m\u001b[0;34m\u001b[0m\u001b[0;34m\u001b[0m\u001b[0m\n\u001b[0;32m--> 296\u001b[0;31m             \u001b[0;32mraise\u001b[0m \u001b[0mSkipped\u001b[0m\u001b[0;34m(\u001b[0m\u001b[0mreason\u001b[0m\u001b[0;34m,\u001b[0m \u001b[0mallow_module_level\u001b[0m\u001b[0;34m=\u001b[0m\u001b[0;32mTrue\u001b[0m\u001b[0;34m)\u001b[0m \u001b[0;32mfrom\u001b[0m \u001b[0;32mNone\u001b[0m\u001b[0;34m\u001b[0m\u001b[0;34m\u001b[0m\u001b[0m\n\u001b[0m\u001b[1;32m    297\u001b[0m     \u001b[0mmod\u001b[0m \u001b[0;34m=\u001b[0m \u001b[0msys\u001b[0m\u001b[0;34m.\u001b[0m\u001b[0mmodules\u001b[0m\u001b[0;34m[\u001b[0m\u001b[0mmodname\u001b[0m\u001b[0;34m]\u001b[0m\u001b[0;34m\u001b[0m\u001b[0;34m\u001b[0m\u001b[0m\n\u001b[1;32m    298\u001b[0m     \u001b[0;32mif\u001b[0m \u001b[0mminversion\u001b[0m \u001b[0;32mis\u001b[0m \u001b[0;32mNone\u001b[0m\u001b[0;34m:\u001b[0m\u001b[0;34m\u001b[0m\u001b[0;34m\u001b[0m\u001b[0m\n",
            "\u001b[0;31mSkipped\u001b[0m: could not import 'hypothesis': No module named 'hypothesis'"
          ]
        }
      ]
    },
    {
      "cell_type": "code",
      "source": [
        "import re\n",
        "dir(re)"
      ],
      "metadata": {
        "colab": {
          "base_uri": "https://localhost:8080/",
          "height": 1000
        },
        "id": "b1xjT89z_Ey0",
        "outputId": "dc51b9b5-58e3-4dab-b106-5f4f500bb6e2"
      },
      "execution_count": null,
      "outputs": [
        {
          "output_type": "stream",
          "name": "stderr",
          "text": [
            "/usr/local/lib/python3.10/dist-packages/ipykernel/ipkernel.py:283: DeprecationWarning: `should_run_async` will not call `transform_cell` automatically in the future. Please pass the result to `transformed_cell` argument and any exception that happen during thetransform in `preprocessing_exc_tuple` in IPython 7.17 and above.\n"
          ]
        },
        {
          "output_type": "display_data",
          "data": {
            "text/plain": [
              "<IPython.core.display.HTML object>"
            ],
            "text/html": [
              "\n",
              "            <style>\n",
              "                .geemap-dark {\n",
              "                    --jp-widgets-color: white;\n",
              "                    --jp-widgets-label-color: white;\n",
              "                    --jp-ui-font-color1: white;\n",
              "                    --jp-layout-color2: #454545;\n",
              "                    background-color: #383838;\n",
              "                }\n",
              "                    \n",
              "                .geemap-dark .jupyter-button {\n",
              "                    --jp-layout-color3: #383838;\n",
              "                }\n",
              "                \n",
              "                .geemap-colab {\n",
              "                    background-color: var(--colab-primary-surface-color, white);\n",
              "                }\n",
              "                    \n",
              "                .geemap-colab .jupyter-button {\n",
              "                    --jp-layout-color3: var(--colab-primary-surface-color, white);\n",
              "                }\n",
              "            </style>\n",
              "            "
            ]
          },
          "metadata": {}
        },
        {
          "output_type": "execute_result",
          "data": {
            "text/plain": [
              "['A',\n",
              " 'ASCII',\n",
              " 'DEBUG',\n",
              " 'DOTALL',\n",
              " 'I',\n",
              " 'IGNORECASE',\n",
              " 'L',\n",
              " 'LOCALE',\n",
              " 'M',\n",
              " 'MULTILINE',\n",
              " 'Match',\n",
              " 'Pattern',\n",
              " 'RegexFlag',\n",
              " 'S',\n",
              " 'Scanner',\n",
              " 'T',\n",
              " 'TEMPLATE',\n",
              " 'U',\n",
              " 'UNICODE',\n",
              " 'VERBOSE',\n",
              " 'X',\n",
              " '_MAXCACHE',\n",
              " '__all__',\n",
              " '__builtins__',\n",
              " '__cached__',\n",
              " '__doc__',\n",
              " '__file__',\n",
              " '__loader__',\n",
              " '__name__',\n",
              " '__package__',\n",
              " '__spec__',\n",
              " '__version__',\n",
              " '_cache',\n",
              " '_compile',\n",
              " '_compile_repl',\n",
              " '_expand',\n",
              " '_locale',\n",
              " '_pickle',\n",
              " '_special_chars_map',\n",
              " '_subx',\n",
              " 'compile',\n",
              " 'copyreg',\n",
              " 'enum',\n",
              " 'error',\n",
              " 'escape',\n",
              " 'findall',\n",
              " 'finditer',\n",
              " 'fullmatch',\n",
              " 'functools',\n",
              " 'match',\n",
              " 'purge',\n",
              " 'search',\n",
              " 'split',\n",
              " 'sre_compile',\n",
              " 'sre_parse',\n",
              " 'sub',\n",
              " 'subn',\n",
              " 'template']"
            ]
          },
          "metadata": {},
          "execution_count": 19
        }
      ]
    },
    {
      "cell_type": "code",
      "source": [
        "help(re.search)"
      ],
      "metadata": {
        "colab": {
          "base_uri": "https://localhost:8080/",
          "height": 158
        },
        "id": "YXrlqbX4_Ra6",
        "outputId": "a641c7de-1d3e-4f1f-c105-5db0a8e71072"
      },
      "execution_count": null,
      "outputs": [
        {
          "output_type": "stream",
          "name": "stderr",
          "text": [
            "/usr/local/lib/python3.10/dist-packages/ipykernel/ipkernel.py:283: DeprecationWarning: `should_run_async` will not call `transform_cell` automatically in the future. Please pass the result to `transformed_cell` argument and any exception that happen during thetransform in `preprocessing_exc_tuple` in IPython 7.17 and above.\n"
          ]
        },
        {
          "output_type": "display_data",
          "data": {
            "text/plain": [
              "<IPython.core.display.HTML object>"
            ],
            "text/html": [
              "\n",
              "            <style>\n",
              "                .geemap-dark {\n",
              "                    --jp-widgets-color: white;\n",
              "                    --jp-widgets-label-color: white;\n",
              "                    --jp-ui-font-color1: white;\n",
              "                    --jp-layout-color2: #454545;\n",
              "                    background-color: #383838;\n",
              "                }\n",
              "                    \n",
              "                .geemap-dark .jupyter-button {\n",
              "                    --jp-layout-color3: #383838;\n",
              "                }\n",
              "                \n",
              "                .geemap-colab {\n",
              "                    background-color: var(--colab-primary-surface-color, white);\n",
              "                }\n",
              "                    \n",
              "                .geemap-colab .jupyter-button {\n",
              "                    --jp-layout-color3: var(--colab-primary-surface-color, white);\n",
              "                }\n",
              "            </style>\n",
              "            "
            ]
          },
          "metadata": {}
        },
        {
          "output_type": "stream",
          "name": "stdout",
          "text": [
            "Help on function search in module re:\n",
            "\n",
            "search(pattern, string, flags=0)\n",
            "    Scan through string looking for a match to the pattern, returning\n",
            "    a Match object, or None if no match was found.\n",
            "\n"
          ]
        }
      ]
    },
    {
      "cell_type": "code",
      "source": [
        "import re\n",
        "s=\"A message from csev@umich.edu to cwen@iupui.edu about meeting @2PM\"\n",
        "lst=re.findall('\\S+',s)\n",
        "print(lst)"
      ],
      "metadata": {
        "colab": {
          "base_uri": "https://localhost:8080/",
          "height": 124
        },
        "id": "W-gq2A31_9bJ",
        "outputId": "7caaec78-0189-4ca1-84b7-4a146a4ae7f7"
      },
      "execution_count": null,
      "outputs": [
        {
          "output_type": "stream",
          "name": "stderr",
          "text": [
            "/usr/local/lib/python3.10/dist-packages/ipykernel/ipkernel.py:283: DeprecationWarning: `should_run_async` will not call `transform_cell` automatically in the future. Please pass the result to `transformed_cell` argument and any exception that happen during thetransform in `preprocessing_exc_tuple` in IPython 7.17 and above.\n",
            "<>:3: DeprecationWarning: invalid escape sequence '\\S'\n",
            "<>:3: DeprecationWarning: invalid escape sequence '\\S'\n"
          ]
        },
        {
          "output_type": "display_data",
          "data": {
            "text/plain": [
              "<IPython.core.display.HTML object>"
            ],
            "text/html": [
              "\n",
              "            <style>\n",
              "                .geemap-dark {\n",
              "                    --jp-widgets-color: white;\n",
              "                    --jp-widgets-label-color: white;\n",
              "                    --jp-ui-font-color1: white;\n",
              "                    --jp-layout-color2: #454545;\n",
              "                    background-color: #383838;\n",
              "                }\n",
              "                    \n",
              "                .geemap-dark .jupyter-button {\n",
              "                    --jp-layout-color3: #383838;\n",
              "                }\n",
              "                \n",
              "                .geemap-colab {\n",
              "                    background-color: var(--colab-primary-surface-color, white);\n",
              "                }\n",
              "                    \n",
              "                .geemap-colab .jupyter-button {\n",
              "                    --jp-layout-color3: var(--colab-primary-surface-color, white);\n",
              "                }\n",
              "            </style>\n",
              "            "
            ]
          },
          "metadata": {}
        },
        {
          "output_type": "stream",
          "name": "stdout",
          "text": [
            "['A', 'message', 'from', 'csev@umich.edu', 'to', 'cwen@iupui.edu', 'about', 'meeting', '@2PM']\n"
          ]
        },
        {
          "output_type": "stream",
          "name": "stderr",
          "text": [
            "<ipython-input-27-62b7d3813f44>:3: DeprecationWarning: invalid escape sequence '\\S'\n"
          ]
        }
      ]
    },
    {
      "cell_type": "code",
      "source": [
        "i=0\n",
        "numbers=[]\n",
        "\n",
        "while i<6:\n",
        "  print(f\"at the top i is{i}\")\n",
        "  numbers.append(i)\n",
        "\n",
        "  i=i+1\n",
        "  print(\"numbers now:,numbers\")\n",
        "  print(f\"at the bottom is {i}\")\n",
        "print (\"the numbers:\")\n",
        "\n",
        "for num in numbers:\n",
        "  print(num)"
      ],
      "metadata": {
        "colab": {
          "base_uri": "https://localhost:8080/"
        },
        "id": "MphWxECHniEG",
        "outputId": "e313e96c-f0c9-4eb2-8e17-55c901d99c61"
      },
      "execution_count": null,
      "outputs": [
        {
          "output_type": "stream",
          "name": "stdout",
          "text": [
            "at the top i is0\n",
            "numbers now:,numbers\n",
            "at the bottom is 1\n",
            "at the top i is1\n",
            "numbers now:,numbers\n",
            "at the bottom is 2\n",
            "at the top i is2\n",
            "numbers now:,numbers\n",
            "at the bottom is 3\n",
            "at the top i is3\n",
            "numbers now:,numbers\n",
            "at the bottom is 4\n",
            "at the top i is4\n",
            "numbers now:,numbers\n",
            "at the bottom is 5\n",
            "at the top i is5\n",
            "numbers now:,numbers\n",
            "at the bottom is 6\n",
            "the numbers:\n",
            "0\n",
            "1\n",
            "2\n",
            "3\n",
            "4\n",
            "5\n"
          ]
        }
      ]
    },
    {
      "cell_type": "code",
      "source": [],
      "metadata": {
        "id": "tTRSlPlkpLVg"
      },
      "execution_count": null,
      "outputs": []
    },
    {
      "cell_type": "code",
      "source": [
        "class thing(object):\n",
        "  def test(message):\n",
        "    print(message)\n",
        "\n",
        "a=Thing()\n",
        "a.test(\"hello\")\n"
      ],
      "metadata": {
        "colab": {
          "base_uri": "https://localhost:8080/",
          "height": 230
        },
        "id": "QDSbCYaV11vp",
        "outputId": "ac2584fd-c568-405a-b2ac-67410d2889cc"
      },
      "execution_count": null,
      "outputs": [
        {
          "output_type": "error",
          "ename": "NameError",
          "evalue": "ignored",
          "traceback": [
            "\u001b[0;31m---------------------------------------------------------------------------\u001b[0m",
            "\u001b[0;31mNameError\u001b[0m                                 Traceback (most recent call last)",
            "\u001b[0;32m<ipython-input-5-0aa80f18d10e>\u001b[0m in \u001b[0;36m<cell line: 5>\u001b[0;34m()\u001b[0m\n\u001b[1;32m      3\u001b[0m     \u001b[0mprint\u001b[0m\u001b[0;34m(\u001b[0m\u001b[0mmessage\u001b[0m\u001b[0;34m)\u001b[0m\u001b[0;34m\u001b[0m\u001b[0;34m\u001b[0m\u001b[0m\n\u001b[1;32m      4\u001b[0m \u001b[0;34m\u001b[0m\u001b[0m\n\u001b[0;32m----> 5\u001b[0;31m \u001b[0ma\u001b[0m\u001b[0;34m=\u001b[0m\u001b[0mThing\u001b[0m\u001b[0;34m(\u001b[0m\u001b[0;34m)\u001b[0m\u001b[0;34m\u001b[0m\u001b[0;34m\u001b[0m\u001b[0m\n\u001b[0m\u001b[1;32m      6\u001b[0m \u001b[0ma\u001b[0m\u001b[0;34m.\u001b[0m\u001b[0mtest\u001b[0m\u001b[0;34m(\u001b[0m\u001b[0;34m\"hello\"\u001b[0m\u001b[0;34m)\u001b[0m\u001b[0;34m\u001b[0m\u001b[0;34m\u001b[0m\u001b[0m\n",
            "\u001b[0;31mNameError\u001b[0m: name 'Thing' is not defined"
          ]
        }
      ]
    },
    {
      "cell_type": "code",
      "source": [
        "ten_things=\"Apples Oranges Crows Telephone light Sugar\"\n",
        "\n",
        "print(\"where there are not 10 things in that list.let's fix that\")\n",
        "\n",
        "stuff=ten_things.split(' ')\n",
        "more_stuff=[\"Day\",\"Night\",\"song\",\"Frisbee\",\"corn\",\"banana\",\"Girl\",\"boy\"]\n",
        "\n",
        "while len(stuff)!=10:\n",
        "  next_one=more_stuff.pop()\n",
        "  print(\"adding:\",next_one)\n",
        "  stuff.append(next_one)\n",
        "  print(f\"there are {len(stuff)} items now\")\n",
        "\n",
        "print(\"there we go:\",stuff)\n",
        "\n",
        "print(\"let's do some things with stuff\")\n",
        "\n",
        "print(stuff[1])\n",
        "print(stuff[-1])\n",
        "print(stuff.pop())\n",
        "print(' '.join(stuff))\n",
        "print('#'.join(stuff[3:5]))"
      ],
      "metadata": {
        "colab": {
          "base_uri": "https://localhost:8080/"
        },
        "id": "GzYphIvS2sbR",
        "outputId": "03bc2c0d-a2e6-4b44-e45e-313a783a8a11"
      },
      "execution_count": null,
      "outputs": [
        {
          "output_type": "stream",
          "name": "stdout",
          "text": [
            "where there are not 10 things in that list.let's fix that\n",
            "adding: boy\n",
            "there are 7 items now\n",
            "adding: Girl\n",
            "there are 8 items now\n",
            "adding: banana\n",
            "there are 9 items now\n",
            "adding: corn\n",
            "there are 10 items now\n",
            "there we go: ['Apples', 'Oranges', 'Crows', 'Telephone', 'light', 'Sugar', 'boy', 'Girl', 'banana', 'corn']\n",
            "let's do some things with stuff\n",
            "Oranges\n",
            "corn\n",
            "corn\n",
            "Apples Oranges Crows Telephone light Sugar boy Girl banana\n",
            "Telephone#light\n"
          ]
        }
      ]
    },
    {
      "cell_type": "markdown",
      "source": [],
      "metadata": {
        "id": "O24ch0288IX0"
      }
    },
    {
      "cell_type": "code",
      "source": [
        "#create a mapping of state to abbreviation\n",
        "\n",
        "states={\n",
        "    'Oregon':'OR',\n",
        "    'Florida':'FL',\n",
        "    'California':'CA',\n",
        "    'New York':'NY',\n",
        "    'Michigan':'MI'\n",
        "}\n",
        "\n",
        "#create a basic set of states and some cities in them\n",
        "cities={\n",
        "    'CA':'SanFrancisco',\n",
        "    'MI':'Detroit',\n",
        "    'FL':'Jacksonville'\n",
        "}\n",
        "# add some more cities\n",
        "cities['NY']='New York'\n",
        "cities['OR']='Portland'\n",
        "\n",
        "#print out some cities\n",
        "print('-'*10)\n",
        "print('NY State has:',cities['NY'])\n",
        "print('OR State has:',cities['OR'])\n",
        "\n",
        "#print some states\n",
        "print('-'*10)\n",
        "print(\"michigan's abbreviation is:\",states['Michigan'])\n",
        "print(\"Florida's abbreviation is:\",states['Florida'])\n",
        "\n",
        "#do it by using the state then cities dict\n",
        "print('-'*10)\n",
        "print(\"Michigan has:\",cities[states['Michigan']])\n",
        "print(\"Florida has:\",cities[states['Florida']])\n",
        "\n",
        "#print every state abbreviation\n",
        "print('-'*10)\n",
        "for state,abbrev in list(states.items()):\n",
        "  print(f\"{state} is abbreviated {abbrev}\")\n",
        "\n",
        "#print every city in state\n",
        "print('-'*10)\n",
        "for abbrev,city in list(cities.items()):\n",
        "  print(f\"{abbrev} has the city {city}\")\n",
        "\n",
        "#now do both at the same time\n",
        "print('-'*10)\n",
        "for state,abbrev in list(states.items()):\n",
        "  print(f\"{state} state is abbreviated {abbrev}\")\n",
        "  print(f\"and has city {cities[abbrev]}\")\n",
        "\n",
        "print('-'*10)\n",
        "#safely get a abbreviation by state that might not be there\n",
        "state=states.get('Texas')\n",
        "\n",
        "if not state:\n",
        "  print(\"sorry,not Texas.\")\n",
        "\n",
        "#get a city with a default value\n",
        "city=cities.get('TX','Does not exist')\n",
        "print(f\"the city for the state 'TX' is {city}\")"
      ],
      "metadata": {
        "colab": {
          "base_uri": "https://localhost:8080/"
        },
        "id": "orgkc1GZ5d9N",
        "outputId": "89dec0c0-f9b0-4114-f495-672d48ef9ea0"
      },
      "execution_count": null,
      "outputs": [
        {
          "output_type": "stream",
          "name": "stdout",
          "text": [
            "----------\n",
            "NY State has: New York\n",
            "OR State has: Portland\n",
            "----------\n",
            "michigan's abbreviation is: MI\n",
            "Florida's abbreviation is: FL\n",
            "----------\n",
            "Michigan has: Detroit\n",
            "Florida has: Jacksonville\n",
            "----------\n",
            "Oregon is abbreviated OR\n",
            "Florida is abbreviated FL\n",
            "California is abbreviated CA\n",
            "New York is abbreviated NY\n",
            "Michigan is abbreviated MI\n",
            "----------\n",
            "CA has the city SanFrancisco\n",
            "MI has the city Detroit\n",
            "FL has the city Jacksonville\n",
            "NY has the city New York\n",
            "OR has the city Portland\n",
            "----------\n",
            "Oregon state is abbreviated OR\n",
            "and has city Portland\n",
            "Florida state is abbreviated FL\n",
            "and has city Jacksonville\n",
            "California state is abbreviated CA\n",
            "and has city SanFrancisco\n",
            "New York state is abbreviated NY\n",
            "and has city New York\n",
            "Michigan state is abbreviated MI\n",
            "and has city Detroit\n",
            "----------\n",
            "sorry,not Texas.\n",
            "the city for the state 'TX' is Does not exist\n"
          ]
        }
      ]
    },
    {
      "cell_type": "code",
      "source": [
        "import os\n",
        "current_directory=os.getcwd()\n",
        "file_name=\"1.txt\"\n",
        "file_path=os.path.join(current_directory,file_name)\n",
        "open(file_name,\"r\")"
      ],
      "metadata": {
        "colab": {
          "base_uri": "https://localhost:8080/",
          "height": 221
        },
        "id": "qBAv2jGDNv1-",
        "outputId": "44ddc921-87a4-4439-c8ab-44743e266b38"
      },
      "execution_count": 6,
      "outputs": [
        {
          "output_type": "error",
          "ename": "FileNotFoundError",
          "evalue": "ignored",
          "traceback": [
            "\u001b[0;31m---------------------------------------------------------------------------\u001b[0m",
            "\u001b[0;31mFileNotFoundError\u001b[0m                         Traceback (most recent call last)",
            "\u001b[0;32m<ipython-input-6-c8797a8d7662>\u001b[0m in \u001b[0;36m<cell line: 5>\u001b[0;34m()\u001b[0m\n\u001b[1;32m      3\u001b[0m \u001b[0mfile_name\u001b[0m\u001b[0;34m=\u001b[0m\u001b[0;34m\"1.txt\"\u001b[0m\u001b[0;34m\u001b[0m\u001b[0;34m\u001b[0m\u001b[0m\n\u001b[1;32m      4\u001b[0m \u001b[0mfile_path\u001b[0m\u001b[0;34m=\u001b[0m\u001b[0mos\u001b[0m\u001b[0;34m.\u001b[0m\u001b[0mpath\u001b[0m\u001b[0;34m.\u001b[0m\u001b[0mjoin\u001b[0m\u001b[0;34m(\u001b[0m\u001b[0mcurrent_directory\u001b[0m\u001b[0;34m,\u001b[0m\u001b[0mfile_name\u001b[0m\u001b[0;34m)\u001b[0m\u001b[0;34m\u001b[0m\u001b[0;34m\u001b[0m\u001b[0m\n\u001b[0;32m----> 5\u001b[0;31m \u001b[0mopen\u001b[0m\u001b[0;34m(\u001b[0m\u001b[0mfile_name\u001b[0m\u001b[0;34m,\u001b[0m\u001b[0;34m\"r\"\u001b[0m\u001b[0;34m)\u001b[0m\u001b[0;34m\u001b[0m\u001b[0;34m\u001b[0m\u001b[0m\n\u001b[0m",
            "\u001b[0;31mFileNotFoundError\u001b[0m: [Errno 2] No such file or directory: '1.txt'"
          ]
        }
      ]
    },
    {
      "cell_type": "code",
      "source": [
        "#load the helper and mount\n",
        "from google.colab import drive\n",
        "#this will prompt for authorization\n",
        "drive.mount('/content/drive')\n",
        "\n",
        "\n",
        "\n",
        "\n",
        "\n"
      ],
      "metadata": {
        "colab": {
          "base_uri": "https://localhost:8080/"
        },
        "id": "k-TGsvmwQELM",
        "outputId": "76cc107a-cbb5-4e7d-8850-1c52440b245e"
      },
      "execution_count": 10,
      "outputs": [
        {
          "output_type": "stream",
          "name": "stdout",
          "text": [
            "Drive already mounted at /content/drive; to attempt to forcibly remount, call drive.mount(\"/content/drive\", force_remount=True).\n"
          ]
        }
      ]
    },
    {
      "cell_type": "code",
      "source": [
        "#after executing the cell above,Drive\n",
        "\n",
        "#files will be present in ('/content/drive/My drive)\n",
        "!ls \"/content/drive/My Drive\""
      ],
      "metadata": {
        "colab": {
          "base_uri": "https://localhost:8080/"
        },
        "id": "SKlPGxi4TAvO",
        "outputId": "f1462437-7eba-44f2-b390-f66df2afb8ce"
      },
      "execution_count": 19,
      "outputs": [
        {
          "output_type": "stream",
          "name": "stdout",
          "text": [
            " 0606信阳淮滨项目.gmap\t\t\t       '客户关系管理员 (1).gsheet'\n",
            " 0816望谟最终.gmap\t\t\t        客户关系管理员.gsheet\n",
            " 1.png\t\t\t\t\t       '年度预算 (1).gsheet'\n",
            " 1.png（副本）\t\t\t\t       '年度预算 (2).gsheet'\n",
            " 1.txt\t\t\t\t\t        年度预算.gsheet\n",
            " 2023年度收支.gsheet\t\t\t       '待办事项列表 (1).gsheet'\n",
            " app\t\t\t\t\t        待办事项列表.gsheet\n",
            "'Colab Notebooks'\t\t\t        无标题文档.gdoc\n",
            "'Explore example（副本） (1).gsheet'\t        无标题电子表格.gsheet\n",
            "'Explore example（副本）.gsheet'\t        无标题绘图.gdraw\n",
            " mark.pptx\t\t\t\t        月度预算.gsheet\n",
            "'TEMPLATE - GPT for Sheets - Examples.gsheet'  '未命名的地图 (1).gmap'\n",
            " Untitled\t\t\t\t       '未命名的地图 (2).gmap'\n",
            " Untitled0.ipynb\t\t\t       '未命名的地图 (3).gmap'\n",
            "'作业跟踪 (1).gsheet'\t\t\t       '未命名的地图 (4).gmap'\n",
            " 作业跟踪.gsheet\t\t\t        未命名的地图.gmap\n",
            " 团队人员名单.gsheet\t\t\t        河南许昌路线图.gmap\n",
            " 婚礼策划.gsheet\t\t\t        活动报名.gform\n",
            " 安康市恒口示范区100MW农光互补项目.gmap         甘特图.gsheet\n",
            " 安徽池州.gmap\t\t\t\t        论文进度表.gsheet\n"
          ]
        }
      ]
    },
    {
      "cell_type": "code",
      "source": [
        "print(\"1.txt\")"
      ],
      "metadata": {
        "colab": {
          "base_uri": "https://localhost:8080/"
        },
        "id": "OQGpxbIiTwpW",
        "outputId": "191d2472-002a-4a33-ddb4-bb01d80c8316"
      },
      "execution_count": 18,
      "outputs": [
        {
          "output_type": "stream",
          "name": "stdout",
          "text": [
            "1.txt\n"
          ]
        }
      ]
    }
  ]
}